{
 "cells": [
  {
   "cell_type": "markdown",
   "metadata": {},
   "source": [
    "# Чем лучше бустить? Тестируем алгоритмы бустинга в бою.\n",
    "\n",
    "**Цель:** В этом домашнем задании вам предстоит провести детективную работу и узнать, какой же алгоритм бустинга работает лучше всего (конечно, применительно к конкретной задаче)\n",
    "\n",
    "## Часть 1. EDA\n",
    "- Выберите любой интересующий вас датасет по классификации или регрессии (можно взять из рекозитория https://archive.ics.uci.edu/ml/datasets.php, еще неплохие и востребованные на практике варианты - предсказание оттока пользователей https://www.kaggle.com/blastchar/telco-customer-churn или предсказание Customer Livetime Value (CLV или LTV) - https://www.kaggle.com/pankajjsh06/ibm-watson-marketing-customer-value-data\n",
    "- По выбранному датасету проведите EDA, познакомьтесь с признаками, посмотрите зависимости и т.д.\n",
    "\n",
    "## Часть 2. Preprocessing & Feature Engineering\n",
    "- Хотя цель этого задания - посмотреть на работу алгоритмов, тем не менее пропускать препроцессинг нельзя :)\n",
    "- Так что переведите категориальные переменные в уникальные лейблы при помощи LabelEncoder, попробуйте добавить новые переменные и выкинуть лишние и, наконец, разбейте данные на train-test\n",
    "\n",
    "## Часть 3. Who's the mightiest of them all?\n",
    "- Постройте 4 варианта градиентного бустинга, используя значения гиперпараметров “из коробки”: реализация из sklearn, XGBoost, CatBoost, LightGBM\n",
    "- Проверьте качество на отложенной выборке, кто пока лидирует?\n",
    "- Теперь проведите настройку гиперпараметров моделей на кросс-валидации, можно настраивать только самые основные гиперпараметры - число итераций бустинга, max_features, subsample и т.д.\n",
    "- Снова проверьте качество уже настроенных моделей, кто, в итоге победил?\n",
    "\n",
    "## Критерии оценки\n",
    "- EDA для выбранного датасета - 1 балл\n",
    "- Preprocessing - 1 балл\n",
    "- Построение моделей из коробки и проверка качества - 4 балла\n",
    "- Настройка гиперпараметров моделей и проверка качества - 4 балла"
   ]
  },
  {
   "cell_type": "code",
   "execution_count": 1,
   "metadata": {},
   "outputs": [],
   "source": [
    "import numpy as np\n",
    "import pandas as pd\n",
    "import matplotlib.pyplot as plt\n",
    "import seaborn as sns\n",
    "import scipy.stats as stats\n",
    "\n",
    "from sklearn.preprocessing import StandardScaler\n",
    "from sklearn.preprocessing import LabelEncoder\n",
    "from sklearn.model_selection import train_test_split\n",
    "from sklearn.metrics import accuracy_score, precision_score, recall_score, f1_score, roc_auc_score\n",
    "from sklearn.model_selection import RandomizedSearchCV\n",
    "\n",
    "%matplotlib inline"
   ]
  },
  {
   "cell_type": "markdown",
   "metadata": {},
   "source": [
    "## Часть 1. EDA\n",
    "### 1.1 Загрузка данных"
   ]
  },
  {
   "cell_type": "markdown",
   "metadata": {},
   "source": [
    "Загружаем данные из датасета по выдаче кредитов (https://archive.ics.uci.edu/ml/datasets/Credit+Approval). Все данные заменены на символы, подписей колонок нет."
   ]
  },
  {
   "cell_type": "code",
   "execution_count": 2,
   "metadata": {},
   "outputs": [
    {
     "data": {
      "text/html": [
       "<div>\n",
       "<style scoped>\n",
       "    .dataframe tbody tr th:only-of-type {\n",
       "        vertical-align: middle;\n",
       "    }\n",
       "\n",
       "    .dataframe tbody tr th {\n",
       "        vertical-align: top;\n",
       "    }\n",
       "\n",
       "    .dataframe thead th {\n",
       "        text-align: right;\n",
       "    }\n",
       "</style>\n",
       "<table border=\"1\" class=\"dataframe\">\n",
       "  <thead>\n",
       "    <tr style=\"text-align: right;\">\n",
       "      <th></th>\n",
       "      <th>1</th>\n",
       "      <th>2</th>\n",
       "      <th>3</th>\n",
       "      <th>4</th>\n",
       "      <th>5</th>\n",
       "      <th>6</th>\n",
       "      <th>7</th>\n",
       "      <th>8</th>\n",
       "      <th>9</th>\n",
       "      <th>10</th>\n",
       "      <th>11</th>\n",
       "      <th>12</th>\n",
       "      <th>13</th>\n",
       "      <th>14</th>\n",
       "      <th>15</th>\n",
       "      <th>Credit</th>\n",
       "    </tr>\n",
       "  </thead>\n",
       "  <tbody>\n",
       "    <tr>\n",
       "      <th>0</th>\n",
       "      <td>b</td>\n",
       "      <td>30.83</td>\n",
       "      <td>0.000</td>\n",
       "      <td>u</td>\n",
       "      <td>g</td>\n",
       "      <td>w</td>\n",
       "      <td>v</td>\n",
       "      <td>1.25</td>\n",
       "      <td>t</td>\n",
       "      <td>t</td>\n",
       "      <td>1</td>\n",
       "      <td>f</td>\n",
       "      <td>g</td>\n",
       "      <td>00202</td>\n",
       "      <td>0</td>\n",
       "      <td>+</td>\n",
       "    </tr>\n",
       "    <tr>\n",
       "      <th>1</th>\n",
       "      <td>a</td>\n",
       "      <td>58.67</td>\n",
       "      <td>4.460</td>\n",
       "      <td>u</td>\n",
       "      <td>g</td>\n",
       "      <td>q</td>\n",
       "      <td>h</td>\n",
       "      <td>3.04</td>\n",
       "      <td>t</td>\n",
       "      <td>t</td>\n",
       "      <td>6</td>\n",
       "      <td>f</td>\n",
       "      <td>g</td>\n",
       "      <td>00043</td>\n",
       "      <td>560</td>\n",
       "      <td>+</td>\n",
       "    </tr>\n",
       "    <tr>\n",
       "      <th>2</th>\n",
       "      <td>a</td>\n",
       "      <td>24.50</td>\n",
       "      <td>0.500</td>\n",
       "      <td>u</td>\n",
       "      <td>g</td>\n",
       "      <td>q</td>\n",
       "      <td>h</td>\n",
       "      <td>1.50</td>\n",
       "      <td>t</td>\n",
       "      <td>f</td>\n",
       "      <td>0</td>\n",
       "      <td>f</td>\n",
       "      <td>g</td>\n",
       "      <td>00280</td>\n",
       "      <td>824</td>\n",
       "      <td>+</td>\n",
       "    </tr>\n",
       "    <tr>\n",
       "      <th>3</th>\n",
       "      <td>b</td>\n",
       "      <td>27.83</td>\n",
       "      <td>1.540</td>\n",
       "      <td>u</td>\n",
       "      <td>g</td>\n",
       "      <td>w</td>\n",
       "      <td>v</td>\n",
       "      <td>3.75</td>\n",
       "      <td>t</td>\n",
       "      <td>t</td>\n",
       "      <td>5</td>\n",
       "      <td>t</td>\n",
       "      <td>g</td>\n",
       "      <td>00100</td>\n",
       "      <td>3</td>\n",
       "      <td>+</td>\n",
       "    </tr>\n",
       "    <tr>\n",
       "      <th>4</th>\n",
       "      <td>b</td>\n",
       "      <td>20.17</td>\n",
       "      <td>5.625</td>\n",
       "      <td>u</td>\n",
       "      <td>g</td>\n",
       "      <td>w</td>\n",
       "      <td>v</td>\n",
       "      <td>1.71</td>\n",
       "      <td>t</td>\n",
       "      <td>f</td>\n",
       "      <td>0</td>\n",
       "      <td>f</td>\n",
       "      <td>s</td>\n",
       "      <td>00120</td>\n",
       "      <td>0</td>\n",
       "      <td>+</td>\n",
       "    </tr>\n",
       "  </tbody>\n",
       "</table>\n",
       "</div>"
      ],
      "text/plain": [
       "   1      2      3  4  5  6  7     8  9 10  11 12 13     14   15 Credit\n",
       "0  b  30.83  0.000  u  g  w  v  1.25  t  t   1  f  g  00202    0      +\n",
       "1  a  58.67  4.460  u  g  q  h  3.04  t  t   6  f  g  00043  560      +\n",
       "2  a  24.50  0.500  u  g  q  h  1.50  t  f   0  f  g  00280  824      +\n",
       "3  b  27.83  1.540  u  g  w  v  3.75  t  t   5  t  g  00100    3      +\n",
       "4  b  20.17  5.625  u  g  w  v  1.71  t  f   0  f  s  00120    0      +"
      ]
     },
     "execution_count": 2,
     "metadata": {},
     "output_type": "execute_result"
    }
   ],
   "source": [
    "data = pd.read_csv('crx.data', header = None, names=['1', '2', '3', '4', '5', \n",
    "                                                     '6', '7', '8', '9', '10', \n",
    "                                                     '11', '12', '13', '14', '15', 'Credit'])\n",
    "data.head()"
   ]
  },
  {
   "cell_type": "code",
   "execution_count": 3,
   "metadata": {},
   "outputs": [
    {
     "name": "stdout",
     "output_type": "stream",
     "text": [
      "<class 'pandas.core.frame.DataFrame'>\n",
      "RangeIndex: 690 entries, 0 to 689\n",
      "Data columns (total 16 columns):\n",
      " #   Column  Non-Null Count  Dtype  \n",
      "---  ------  --------------  -----  \n",
      " 0   1       690 non-null    object \n",
      " 1   2       690 non-null    object \n",
      " 2   3       690 non-null    float64\n",
      " 3   4       690 non-null    object \n",
      " 4   5       690 non-null    object \n",
      " 5   6       690 non-null    object \n",
      " 6   7       690 non-null    object \n",
      " 7   8       690 non-null    float64\n",
      " 8   9       690 non-null    object \n",
      " 9   10      690 non-null    object \n",
      " 10  11      690 non-null    int64  \n",
      " 11  12      690 non-null    object \n",
      " 12  13      690 non-null    object \n",
      " 13  14      690 non-null    object \n",
      " 14  15      690 non-null    int64  \n",
      " 15  Credit  690 non-null    object \n",
      "dtypes: float64(2), int64(2), object(12)\n",
      "memory usage: 86.4+ KB\n"
     ]
    }
   ],
   "source": [
    "data.info()"
   ]
  },
  {
   "cell_type": "markdown",
   "metadata": {},
   "source": [
    "Получение базовых статистик датасета: средние, медиана, персентили"
   ]
  },
  {
   "cell_type": "code",
   "execution_count": 4,
   "metadata": {},
   "outputs": [
    {
     "data": {
      "text/html": [
       "<div>\n",
       "<style scoped>\n",
       "    .dataframe tbody tr th:only-of-type {\n",
       "        vertical-align: middle;\n",
       "    }\n",
       "\n",
       "    .dataframe tbody tr th {\n",
       "        vertical-align: top;\n",
       "    }\n",
       "\n",
       "    .dataframe thead th {\n",
       "        text-align: right;\n",
       "    }\n",
       "</style>\n",
       "<table border=\"1\" class=\"dataframe\">\n",
       "  <thead>\n",
       "    <tr style=\"text-align: right;\">\n",
       "      <th></th>\n",
       "      <th>3</th>\n",
       "      <th>8</th>\n",
       "      <th>11</th>\n",
       "      <th>15</th>\n",
       "    </tr>\n",
       "  </thead>\n",
       "  <tbody>\n",
       "    <tr>\n",
       "      <th>count</th>\n",
       "      <td>690.000000</td>\n",
       "      <td>690.000000</td>\n",
       "      <td>690.00000</td>\n",
       "      <td>690.000000</td>\n",
       "    </tr>\n",
       "    <tr>\n",
       "      <th>mean</th>\n",
       "      <td>4.758725</td>\n",
       "      <td>2.223406</td>\n",
       "      <td>2.40000</td>\n",
       "      <td>1017.385507</td>\n",
       "    </tr>\n",
       "    <tr>\n",
       "      <th>std</th>\n",
       "      <td>4.978163</td>\n",
       "      <td>3.346513</td>\n",
       "      <td>4.86294</td>\n",
       "      <td>5210.102598</td>\n",
       "    </tr>\n",
       "    <tr>\n",
       "      <th>min</th>\n",
       "      <td>0.000000</td>\n",
       "      <td>0.000000</td>\n",
       "      <td>0.00000</td>\n",
       "      <td>0.000000</td>\n",
       "    </tr>\n",
       "    <tr>\n",
       "      <th>25%</th>\n",
       "      <td>1.000000</td>\n",
       "      <td>0.165000</td>\n",
       "      <td>0.00000</td>\n",
       "      <td>0.000000</td>\n",
       "    </tr>\n",
       "    <tr>\n",
       "      <th>50%</th>\n",
       "      <td>2.750000</td>\n",
       "      <td>1.000000</td>\n",
       "      <td>0.00000</td>\n",
       "      <td>5.000000</td>\n",
       "    </tr>\n",
       "    <tr>\n",
       "      <th>75%</th>\n",
       "      <td>7.207500</td>\n",
       "      <td>2.625000</td>\n",
       "      <td>3.00000</td>\n",
       "      <td>395.500000</td>\n",
       "    </tr>\n",
       "    <tr>\n",
       "      <th>max</th>\n",
       "      <td>28.000000</td>\n",
       "      <td>28.500000</td>\n",
       "      <td>67.00000</td>\n",
       "      <td>100000.000000</td>\n",
       "    </tr>\n",
       "  </tbody>\n",
       "</table>\n",
       "</div>"
      ],
      "text/plain": [
       "                3           8         11             15\n",
       "count  690.000000  690.000000  690.00000     690.000000\n",
       "mean     4.758725    2.223406    2.40000    1017.385507\n",
       "std      4.978163    3.346513    4.86294    5210.102598\n",
       "min      0.000000    0.000000    0.00000       0.000000\n",
       "25%      1.000000    0.165000    0.00000       0.000000\n",
       "50%      2.750000    1.000000    0.00000       5.000000\n",
       "75%      7.207500    2.625000    3.00000     395.500000\n",
       "max     28.000000   28.500000   67.00000  100000.000000"
      ]
     },
     "execution_count": 4,
     "metadata": {},
     "output_type": "execute_result"
    }
   ],
   "source": [
    "data.describe()"
   ]
  },
  {
   "cell_type": "code",
   "execution_count": 5,
   "metadata": {},
   "outputs": [],
   "source": [
    "# Сгруппируем датасет по целевой переменной, для использования при построении графиков\n",
    "data_grouped = data.groupby(\"Credit\")"
   ]
  },
  {
   "cell_type": "markdown",
   "metadata": {},
   "source": [
    "### 1.2 Анализ переменных"
   ]
  },
  {
   "cell_type": "markdown",
   "metadata": {},
   "source": [
    "Сперва проверим, есть ли пропуски в данных."
   ]
  },
  {
   "cell_type": "code",
   "execution_count": 6,
   "metadata": {},
   "outputs": [
    {
     "data": {
      "text/plain": [
       "1         0\n",
       "2         0\n",
       "3         0\n",
       "4         0\n",
       "5         0\n",
       "6         0\n",
       "7         0\n",
       "8         0\n",
       "9         0\n",
       "10        0\n",
       "11        0\n",
       "12        0\n",
       "13        0\n",
       "14        0\n",
       "15        0\n",
       "Credit    0\n",
       "dtype: int64"
      ]
     },
     "execution_count": 6,
     "metadata": {},
     "output_type": "execute_result"
    }
   ],
   "source": [
    "data.isnull().sum()"
   ]
  },
  {
   "cell_type": "markdown",
   "metadata": {},
   "source": [
    "Пустых ячеек нет, поэтому переходим к последовательному анализу каждого столбца."
   ]
  },
  {
   "cell_type": "markdown",
   "metadata": {},
   "source": [
    "---\n",
    "**1**"
   ]
  },
  {
   "cell_type": "code",
   "execution_count": 7,
   "metadata": {
    "scrolled": true
   },
   "outputs": [
    {
     "data": {
      "text/plain": [
       "b    468\n",
       "a    210\n",
       "?     12\n",
       "Name: 1, dtype: int64"
      ]
     },
     "execution_count": 7,
     "metadata": {},
     "output_type": "execute_result"
    }
   ],
   "source": [
    "data['1'].value_counts()"
   ]
  },
  {
   "cell_type": "code",
   "execution_count": 8,
   "metadata": {},
   "outputs": [
    {
     "data": {
      "text/plain": [
       "array(['b', 'a', '?'], dtype=object)"
      ]
     },
     "execution_count": 8,
     "metadata": {},
     "output_type": "execute_result"
    }
   ],
   "source": [
    "data['1'].unique()"
   ]
  },
  {
   "cell_type": "markdown",
   "metadata": {},
   "source": [
    "Можно заметить, что в данном датасете скорее всего пропуски заменены на знак вопроса. Так как мы не знаем природы данных, наиболее предпочитетльным выглядит, удаление строк с пропущенными значениями."
   ]
  },
  {
   "cell_type": "code",
   "execution_count": 9,
   "metadata": {},
   "outputs": [],
   "source": [
    "data = data[data['1'] != '?']\n",
    "data_grouped = data.groupby(\"Credit\")"
   ]
  },
  {
   "cell_type": "code",
   "execution_count": 10,
   "metadata": {
    "scrolled": true
   },
   "outputs": [
    {
     "data": {
      "text/plain": [
       "Credit\n",
       "+    AxesSubplot(0.125,0.125;0.775x0.755)\n",
       "-    AxesSubplot(0.125,0.125;0.775x0.755)\n",
       "Name: 1, dtype: object"
      ]
     },
     "execution_count": 10,
     "metadata": {},
     "output_type": "execute_result"
    },
    {
     "data": {
      "image/png": "[encoded data removed]",
      "text/plain": [
       "<Figure size 432x288 with 1 Axes>"
      ]
     },
     "metadata": {
      "needs_background": "light"
     },
     "output_type": "display_data"
    }
   ],
   "source": [
    "data_grouped['1'].hist(alpha=0.6)"
   ]
  },
  {
   "cell_type": "markdown",
   "metadata": {},
   "source": [
    "---\n",
    "**2**"
   ]
  },
  {
   "cell_type": "code",
   "execution_count": 11,
   "metadata": {
    "scrolled": true
   },
   "outputs": [
    {
     "data": {
      "text/plain": [
       "?        12\n",
       "22.67     9\n",
       "23.58     6\n",
       "18.83     6\n",
       "22.50     6\n",
       "         ..\n",
       "56.50     1\n",
       "37.58     1\n",
       "59.67     1\n",
       "52.83     1\n",
       "50.75     1\n",
       "Name: 2, Length: 346, dtype: int64"
      ]
     },
     "execution_count": 11,
     "metadata": {},
     "output_type": "execute_result"
    }
   ],
   "source": [
    "data['2'].value_counts()"
   ]
  },
  {
   "cell_type": "code",
   "execution_count": 12,
   "metadata": {
    "scrolled": true
   },
   "outputs": [
    {
     "data": {
      "text/plain": [
       "array(['30.83', '58.67', '24.50', '27.83', '20.17', '32.08', '33.17',\n",
       "       '22.92', '54.42', '42.50', '22.08', '29.92', '38.25', '48.08',\n",
       "       '45.83', '36.67', '28.25', '23.25', '21.83', '19.17', '25.00',\n",
       "       '47.75', '27.42', '41.17', '15.83', '47.00', '56.58', '57.42',\n",
       "       '42.08', '29.25', '42.00', '49.50', '36.75', '22.58', '27.25',\n",
       "       '23.00', '27.75', '54.58', '34.17', '28.92', '29.67', '39.58',\n",
       "       '56.42', '54.33', '41.00', '31.92', '41.50', '23.92', '25.75',\n",
       "       '26.00', '37.42', '34.92', '34.25', '23.33', '23.17', '44.33',\n",
       "       '35.17', '43.25', '56.75', '31.67', '23.42', '20.42', '26.67',\n",
       "       '36.00', '25.50', '19.42', '32.33', '34.83', '38.58', '44.25',\n",
       "       '44.83', '20.67', '34.08', '21.67', '21.50', '49.58', '27.67',\n",
       "       '39.83', '?', '37.17', '25.67', '34.00', '49.00', '62.50', '31.42',\n",
       "       '52.33', '28.75', '28.58', '22.50', '28.50', '37.50', '35.25',\n",
       "       '18.67', '54.83', '40.92', '19.75', '29.17', '24.58', '33.75',\n",
       "       '25.42', '37.75', '52.50', '57.83', '20.75', '39.92', '24.75',\n",
       "       '44.17', '23.50', '47.67', '22.75', '34.42', '28.42', '67.75',\n",
       "       '47.42', '36.25', '32.67', '48.58', '33.58', '18.83', '26.92',\n",
       "       '31.25', '56.50', '43.00', '22.33', '32.83', '40.33', '30.50',\n",
       "       '52.83', '46.67', '58.33', '37.33', '23.08', '32.75', '68.67',\n",
       "       '28.00', '44.00', '25.08', '32.00', '60.58', '40.83', '19.33',\n",
       "       '41.33', '56.00', '49.83', '22.67', '27.00', '26.08', '18.42',\n",
       "       '21.25', '57.08', '22.42', '48.75', '40.00', '40.58', '28.67',\n",
       "       '33.08', '21.33', '41.75', '34.50', '48.17', '27.58', '24.08',\n",
       "       '24.83', '36.33', '35.42', '71.58', '39.50', '39.33', '24.33',\n",
       "       '60.08', '55.92', '53.92', '18.92', '50.08', '65.42', '17.58',\n",
       "       '18.08', '19.67', '25.17', '33.50', '58.42', '26.17', '42.83',\n",
       "       '38.17', '20.50', '48.25', '28.33', '18.75', '18.50', '45.00',\n",
       "       '40.25', '41.42', '17.83', '18.17', '20.00', '52.17', '50.75',\n",
       "       '17.08', '18.33', '59.67', '18.00', '37.58', '30.67', '18.58',\n",
       "       '16.25', '21.17', '17.67', '16.50', '29.50', '21.75', '18.25',\n",
       "       '35.75', '16.08', '69.17', '32.92', '16.33', '22.17', '57.58',\n",
       "       '15.92', '31.75', '19.00', '17.50', '33.67', '30.17', '33.25',\n",
       "       '25.25', '34.75', '47.33', '39.08', '42.75', '38.92', '62.75',\n",
       "       '26.75', '63.33', '30.75', '16.00', '19.50', '32.42', '30.25',\n",
       "       '26.83', '16.92', '24.42', '39.42', '23.58', '21.42', '33.00',\n",
       "       '26.33', '26.25', '20.83', '43.17', '56.83', '15.17', '29.83',\n",
       "       '31.00', '51.92', '69.50', '19.58', '22.25', '38.42', '26.58',\n",
       "       '35.00', '29.42', '49.17', '51.83', '58.58', '53.33', '27.17',\n",
       "       '25.92', '30.58', '17.25', '27.33', '36.50', '52.42', '36.17',\n",
       "       '34.58', '21.92', '36.58', '31.08', '30.42', '21.08', '17.42',\n",
       "       '39.17', '17.33', '23.75', '34.67', '74.83', '28.17', '47.25',\n",
       "       '24.17', '39.25', '39.00', '64.08', '31.33', '21.00', '13.75',\n",
       "       '46.00', '20.25', '60.92', '30.00', '22.83', '45.17', '41.58',\n",
       "       '55.75', '25.33', '31.83', '33.92', '24.92', '80.25', '30.08',\n",
       "       '48.33', '76.75', '51.33', '41.92', '29.58', '32.17', '51.42',\n",
       "       '42.17', '43.08', '59.50', '65.17', '20.33', '32.25', '48.50',\n",
       "       '28.08', '73.42', '51.58', '38.67', '46.08', '20.08', '16.17',\n",
       "       '47.83', '22.00', '38.33', '25.58', '21.58', '36.08', '38.75',\n",
       "       '35.58', '31.58', '15.75', '17.92', '30.33', '47.17', '25.83',\n",
       "       '50.25', '36.42'], dtype=object)"
      ]
     },
     "execution_count": 12,
     "metadata": {},
     "output_type": "execute_result"
    }
   ],
   "source": [
    "data['2'].unique()"
   ]
  },
  {
   "cell_type": "code",
   "execution_count": 13,
   "metadata": {},
   "outputs": [],
   "source": [
    "# также уберем строки с вопросом\n",
    "data = data[data['2'] != '?']\n",
    "data_grouped = data.groupby(\"Credit\")"
   ]
  },
  {
   "cell_type": "markdown",
   "metadata": {},
   "source": [
    "Преобразуем колонку в вещественный тип."
   ]
  },
  {
   "cell_type": "code",
   "execution_count": 14,
   "metadata": {},
   "outputs": [],
   "source": [
    "data['2'] = pd.to_numeric(data['2'])"
   ]
  },
  {
   "cell_type": "code",
   "execution_count": 15,
   "metadata": {},
   "outputs": [
    {
     "data": {
      "text/plain": [
       "Credit\n",
       "+    AxesSubplot(0.125,0.125;0.775x0.755)\n",
       "-    AxesSubplot(0.125,0.125;0.775x0.755)\n",
       "Name: 2, dtype: object"
      ]
     },
     "execution_count": 15,
     "metadata": {},
     "output_type": "execute_result"
    },
    {
     "data": {
      "image/png": "[encoded data removed]",
      "text/plain": [
       "<Figure size 432x288 with 1 Axes>"
      ]
     },
     "metadata": {
      "needs_background": "light"
     },
     "output_type": "display_data"
    }
   ],
   "source": [
    "data_grouped['2'].hist(alpha=0.6)"
   ]
  },
  {
   "cell_type": "code",
   "execution_count": 16,
   "metadata": {
    "scrolled": true
   },
   "outputs": [
    {
     "data": {
      "text/plain": [
       "Credit\n",
       "+    AxesSubplot(0.125,0.125;0.775x0.755)\n",
       "-    AxesSubplot(0.125,0.125;0.775x0.755)\n",
       "Name: 2, dtype: object"
      ]
     },
     "execution_count": 16,
     "metadata": {},
     "output_type": "execute_result"
    },
    {
     "data": {
      "image/png": "[encoded data removed]",
      "text/plain": [
       "<Figure size 432x288 with 1 Axes>"
      ]
     },
     "metadata": {
      "needs_background": "light"
     },
     "output_type": "display_data"
    }
   ],
   "source": [
    "data_grouped['2'].plot(kind='kde')"
   ]
  },
  {
   "cell_type": "markdown",
   "metadata": {},
   "source": [
    "---\n",
    "**3**"
   ]
  },
  {
   "cell_type": "code",
   "execution_count": 17,
   "metadata": {
    "scrolled": true
   },
   "outputs": [
    {
     "data": {
      "text/plain": [
       "0.000     19\n",
       "2.500     19\n",
       "1.500     19\n",
       "3.000     18\n",
       "0.750     16\n",
       "          ..\n",
       "2.665      1\n",
       "22.000     1\n",
       "13.915     1\n",
       "4.915      1\n",
       "10.915     1\n",
       "Name: 3, Length: 215, dtype: int64"
      ]
     },
     "execution_count": 17,
     "metadata": {},
     "output_type": "execute_result"
    }
   ],
   "source": [
    "data['3'].value_counts()"
   ]
  },
  {
   "cell_type": "code",
   "execution_count": 18,
   "metadata": {},
   "outputs": [
    {
     "data": {
      "text/plain": [
       "Credit\n",
       "+    AxesSubplot(0.125,0.125;0.775x0.755)\n",
       "-    AxesSubplot(0.125,0.125;0.775x0.755)\n",
       "Name: 3, dtype: object"
      ]
     },
     "execution_count": 18,
     "metadata": {},
     "output_type": "execute_result"
    },
    {
     "data": {
      "image/png": "[encoded data removed]",
      "text/plain": [
       "<Figure size 432x288 with 1 Axes>"
      ]
     },
     "metadata": {
      "needs_background": "light"
     },
     "output_type": "display_data"
    }
   ],
   "source": [
    "data_grouped['3'].hist(alpha=0.6)"
   ]
  },
  {
   "cell_type": "code",
   "execution_count": 19,
   "metadata": {},
   "outputs": [
    {
     "data": {
      "text/plain": [
       "Credit\n",
       "+    AxesSubplot(0.125,0.125;0.775x0.755)\n",
       "-    AxesSubplot(0.125,0.125;0.775x0.755)\n",
       "Name: 3, dtype: object"
      ]
     },
     "execution_count": 19,
     "metadata": {},
     "output_type": "execute_result"
    },
    {
     "data": {
      "image/png": "[encoded data removed]",
      "text/plain": [
       "<Figure size 432x288 with 1 Axes>"
      ]
     },
     "metadata": {
      "needs_background": "light"
     },
     "output_type": "display_data"
    }
   ],
   "source": [
    "data_grouped['3'].plot(kind='kde')"
   ]
  },
  {
   "cell_type": "markdown",
   "metadata": {},
   "source": [
    "---\n",
    "**4**"
   ]
  },
  {
   "cell_type": "code",
   "execution_count": 20,
   "metadata": {
    "scrolled": true
   },
   "outputs": [
    {
     "data": {
      "text/plain": [
       "u    503\n",
       "y    155\n",
       "?      6\n",
       "l      2\n",
       "Name: 4, dtype: int64"
      ]
     },
     "execution_count": 20,
     "metadata": {},
     "output_type": "execute_result"
    }
   ],
   "source": [
    "data['4'].value_counts()"
   ]
  },
  {
   "cell_type": "code",
   "execution_count": 21,
   "metadata": {},
   "outputs": [],
   "source": [
    "# также уберем строки с вопросом\n",
    "data = data[data['4'] != '?']\n",
    "data_grouped = data.groupby(\"Credit\")"
   ]
  },
  {
   "cell_type": "code",
   "execution_count": 22,
   "metadata": {
    "scrolled": true
   },
   "outputs": [
    {
     "data": {
      "text/plain": [
       "Credit\n",
       "+    AxesSubplot(0.125,0.125;0.775x0.755)\n",
       "-    AxesSubplot(0.125,0.125;0.775x0.755)\n",
       "Name: 4, dtype: object"
      ]
     },
     "execution_count": 22,
     "metadata": {},
     "output_type": "execute_result"
    },
    {
     "data": {
      "image/png": "[encoded data removed]",
      "text/plain": [
       "<Figure size 432x288 with 1 Axes>"
      ]
     },
     "metadata": {
      "needs_background": "light"
     },
     "output_type": "display_data"
    }
   ],
   "source": [
    "data_grouped['4'].hist(alpha=0.6)"
   ]
  },
  {
   "cell_type": "markdown",
   "metadata": {},
   "source": [
    "---\n",
    "**5**"
   ]
  },
  {
   "cell_type": "code",
   "execution_count": 23,
   "metadata": {
    "scrolled": true
   },
   "outputs": [
    {
     "data": {
      "text/plain": [
       "g     503\n",
       "p     155\n",
       "gg      2\n",
       "Name: 5, dtype: int64"
      ]
     },
     "execution_count": 23,
     "metadata": {},
     "output_type": "execute_result"
    }
   ],
   "source": [
    "data['5'].value_counts()"
   ]
  },
  {
   "cell_type": "code",
   "execution_count": 24,
   "metadata": {
    "scrolled": true
   },
   "outputs": [
    {
     "data": {
      "text/plain": [
       "Credit\n",
       "+    AxesSubplot(0.125,0.125;0.775x0.755)\n",
       "-    AxesSubplot(0.125,0.125;0.775x0.755)\n",
       "Name: 5, dtype: object"
      ]
     },
     "execution_count": 24,
     "metadata": {},
     "output_type": "execute_result"
    },
    {
     "data": {
      "image/png": "[encoded data removed]",
      "text/plain": [
       "<Figure size 432x288 with 1 Axes>"
      ]
     },
     "metadata": {
      "needs_background": "light"
     },
     "output_type": "display_data"
    }
   ],
   "source": [
    "data_grouped['5'].hist(alpha=0.6)"
   ]
  },
  {
   "cell_type": "markdown",
   "metadata": {},
   "source": [
    "---\n",
    "**6**"
   ]
  },
  {
   "cell_type": "code",
   "execution_count": 25,
   "metadata": {
    "scrolled": true
   },
   "outputs": [
    {
     "data": {
      "text/plain": [
       "c     134\n",
       "q      76\n",
       "w      63\n",
       "i      56\n",
       "aa     52\n",
       "ff     51\n",
       "k      49\n",
       "cc     40\n",
       "m      38\n",
       "x      36\n",
       "d      27\n",
       "e      24\n",
       "j      10\n",
       "r       3\n",
       "?       1\n",
       "Name: 6, dtype: int64"
      ]
     },
     "execution_count": 25,
     "metadata": {},
     "output_type": "execute_result"
    }
   ],
   "source": [
    "data['6'].value_counts()"
   ]
  },
  {
   "cell_type": "code",
   "execution_count": 26,
   "metadata": {},
   "outputs": [],
   "source": [
    "# также уберем строки с вопросом\n",
    "data = data[data['6'] != '?']\n",
    "data_grouped = data.groupby(\"Credit\")"
   ]
  },
  {
   "cell_type": "code",
   "execution_count": 27,
   "metadata": {
    "scrolled": false
   },
   "outputs": [
    {
     "data": {
      "text/plain": [
       "Credit\n",
       "+    AxesSubplot(0.125,0.125;0.775x0.755)\n",
       "-    AxesSubplot(0.125,0.125;0.775x0.755)\n",
       "Name: 6, dtype: object"
      ]
     },
     "execution_count": 27,
     "metadata": {},
     "output_type": "execute_result"
    },
    {
     "data": {
      "image/png": "[encoded data removed]",
      "text/plain": [
       "<Figure size 432x288 with 1 Axes>"
      ]
     },
     "metadata": {
      "needs_background": "light"
     },
     "output_type": "display_data"
    }
   ],
   "source": [
    "data_grouped['6'].hist(alpha=0.6)"
   ]
  },
  {
   "cell_type": "markdown",
   "metadata": {},
   "source": [
    "---\n",
    "**7**"
   ]
  },
  {
   "cell_type": "code",
   "execution_count": 28,
   "metadata": {
    "scrolled": true
   },
   "outputs": [
    {
     "data": {
      "text/plain": [
       "v     384\n",
       "h     137\n",
       "ff     55\n",
       "bb     55\n",
       "j       8\n",
       "z       8\n",
       "dd      6\n",
       "n       4\n",
       "o       2\n",
       "Name: 7, dtype: int64"
      ]
     },
     "execution_count": 28,
     "metadata": {},
     "output_type": "execute_result"
    }
   ],
   "source": [
    "data['7'].value_counts()"
   ]
  },
  {
   "cell_type": "code",
   "execution_count": 29,
   "metadata": {},
   "outputs": [],
   "source": [
    "# также уберем строки с вопросом\n",
    "data = data[data['6'] != '?']\n",
    "data_grouped = data.groupby(\"Credit\")"
   ]
  },
  {
   "cell_type": "code",
   "execution_count": 30,
   "metadata": {
    "scrolled": false
   },
   "outputs": [
    {
     "data": {
      "text/plain": [
       "Credit\n",
       "+    AxesSubplot(0.125,0.125;0.775x0.755)\n",
       "-    AxesSubplot(0.125,0.125;0.775x0.755)\n",
       "Name: 7, dtype: object"
      ]
     },
     "execution_count": 30,
     "metadata": {},
     "output_type": "execute_result"
    },
    {
     "data": {
      "image/png": "[encoded data removed]",
      "text/plain": [
       "<Figure size 432x288 with 1 Axes>"
      ]
     },
     "metadata": {
      "needs_background": "light"
     },
     "output_type": "display_data"
    }
   ],
   "source": [
    "data_grouped['7'].hist(alpha=0.6)"
   ]
  },
  {
   "cell_type": "markdown",
   "metadata": {},
   "source": [
    "---\n",
    "**8**"
   ]
  },
  {
   "cell_type": "code",
   "execution_count": 31,
   "metadata": {
    "scrolled": true
   },
   "outputs": [
    {
     "data": {
      "text/plain": [
       "array([ 1.25 ,  3.04 ,  1.5  ,  3.75 ,  1.71 ,  2.5  ,  6.5  ,  0.04 ,\n",
       "        3.96 ,  3.165,  2.165,  4.335,  1.   ,  5.   ,  0.25 ,  0.96 ,\n",
       "        3.17 ,  0.665,  0.75 ,  0.835,  7.875,  3.085,  0.5  ,  5.165,\n",
       "       15.   ,  7.   ,  5.04 ,  7.96 ,  7.585,  0.415,  2.   ,  1.835,\n",
       "       14.415,  4.5  ,  5.335,  8.625, 28.5  ,  2.625,  0.125,  6.04 ,\n",
       "        3.5  ,  0.165,  0.875,  1.75 ,  0.   ,  7.415,  0.085,  5.75 ,\n",
       "        6.   ,  3.   ,  1.585,  4.29 ,  1.54 ,  1.46 ,  1.625, 12.5  ,\n",
       "       13.5  , 10.75 ,  0.375,  0.585,  0.455,  4.   ,  9.46 ,  2.25 ,\n",
       "       10.   ,  0.795,  1.375,  1.29 , 11.5  ,  6.29 , 14.   ,  0.335,\n",
       "        1.21 ,  7.375,  8.5  ,  7.5  ,  3.25 , 13.   ,  5.5  ,  4.25 ,\n",
       "        0.625,  5.085,  2.75 ,  2.375,  8.   ,  1.085,  2.54 ,  4.165,\n",
       "        1.665, 11.   ,  9.   ,  1.335,  1.415,  1.96 ,  2.585,  5.125,\n",
       "       15.5  ,  0.71 ,  5.665, 18.   ,  5.25 ,  8.665,  2.29 , 20.   ,\n",
       "        2.46 , 13.875,  2.085,  4.58 ,  2.71 ,  2.04 ,  0.29 ,  0.46 ,\n",
       "        0.21 ,  0.54 ,  3.335,  2.335,  1.165,  2.415,  2.79 ,  4.625,\n",
       "        1.04 ,  4.75 ,  6.75 ,  1.875, 16.   , 12.75 ,  5.375,  2.125,\n",
       "       17.5  ,  3.125,  0.79 ,  8.29 ])"
      ]
     },
     "execution_count": 31,
     "metadata": {},
     "output_type": "execute_result"
    }
   ],
   "source": [
    "data['8'].unique()"
   ]
  },
  {
   "cell_type": "code",
   "execution_count": 32,
   "metadata": {
    "scrolled": false
   },
   "outputs": [
    {
     "data": {
      "text/plain": [
       "Credit\n",
       "+    AxesSubplot(0.125,0.125;0.775x0.755)\n",
       "-    AxesSubplot(0.125,0.125;0.775x0.755)\n",
       "Name: 8, dtype: object"
      ]
     },
     "execution_count": 32,
     "metadata": {},
     "output_type": "execute_result"
    },
    {
     "data": {
      "image/png": "[encoded data removed]",
      "text/plain": [
       "<Figure size 432x288 with 1 Axes>"
      ]
     },
     "metadata": {
      "needs_background": "light"
     },
     "output_type": "display_data"
    }
   ],
   "source": [
    "data_grouped['8'].hist(alpha=0.6)"
   ]
  },
  {
   "cell_type": "code",
   "execution_count": 33,
   "metadata": {},
   "outputs": [
    {
     "data": {
      "text/plain": [
       "Credit\n",
       "+    AxesSubplot(0.125,0.125;0.775x0.755)\n",
       "-    AxesSubplot(0.125,0.125;0.775x0.755)\n",
       "Name: 8, dtype: object"
      ]
     },
     "execution_count": 33,
     "metadata": {},
     "output_type": "execute_result"
    },
    {
     "data": {
      "image/png": "[encoded data removed]",
      "text/plain": [
       "<Figure size 432x288 with 1 Axes>"
      ]
     },
     "metadata": {
      "needs_background": "light"
     },
     "output_type": "display_data"
    }
   ],
   "source": [
    "data_grouped['8'].plot(kind='kde')"
   ]
  },
  {
   "cell_type": "markdown",
   "metadata": {},
   "source": [
    "---\n",
    "**9**"
   ]
  },
  {
   "cell_type": "code",
   "execution_count": 34,
   "metadata": {
    "scrolled": true
   },
   "outputs": [
    {
     "data": {
      "text/plain": [
       "t    352\n",
       "f    307\n",
       "Name: 9, dtype: int64"
      ]
     },
     "execution_count": 34,
     "metadata": {},
     "output_type": "execute_result"
    }
   ],
   "source": [
    "data['9'].value_counts()"
   ]
  },
  {
   "cell_type": "code",
   "execution_count": 35,
   "metadata": {
    "scrolled": true
   },
   "outputs": [
    {
     "data": {
      "text/plain": [
       "Credit\n",
       "+    AxesSubplot(0.125,0.125;0.775x0.755)\n",
       "-    AxesSubplot(0.125,0.125;0.775x0.755)\n",
       "Name: 9, dtype: object"
      ]
     },
     "execution_count": 35,
     "metadata": {},
     "output_type": "execute_result"
    },
    {
     "data": {
      "image/png": "[encoded data removed]",
      "text/plain": [
       "<Figure size 432x288 with 1 Axes>"
      ]
     },
     "metadata": {
      "needs_background": "light"
     },
     "output_type": "display_data"
    }
   ],
   "source": [
    "data_grouped['9'].hist(alpha=0.6)"
   ]
  },
  {
   "cell_type": "markdown",
   "metadata": {},
   "source": [
    "---\n",
    "**10**"
   ]
  },
  {
   "cell_type": "code",
   "execution_count": 36,
   "metadata": {
    "scrolled": true
   },
   "outputs": [
    {
     "data": {
      "text/plain": [
       "f    369\n",
       "t    290\n",
       "Name: 10, dtype: int64"
      ]
     },
     "execution_count": 36,
     "metadata": {},
     "output_type": "execute_result"
    }
   ],
   "source": [
    "data['10'].value_counts()"
   ]
  },
  {
   "cell_type": "code",
   "execution_count": 37,
   "metadata": {
    "scrolled": true
   },
   "outputs": [
    {
     "data": {
      "text/plain": [
       "Credit\n",
       "+    AxesSubplot(0.125,0.125;0.775x0.755)\n",
       "-    AxesSubplot(0.125,0.125;0.775x0.755)\n",
       "Name: 10, dtype: object"
      ]
     },
     "execution_count": 37,
     "metadata": {},
     "output_type": "execute_result"
    },
    {
     "data": {
      "image/png": "[encoded data removed]",
      "text/plain": [
       "<Figure size 432x288 with 1 Axes>"
      ]
     },
     "metadata": {
      "needs_background": "light"
     },
     "output_type": "display_data"
    }
   ],
   "source": [
    "data_grouped['10'].hist(alpha=0.6)"
   ]
  },
  {
   "cell_type": "markdown",
   "metadata": {},
   "source": [
    "---\n",
    "**11**"
   ]
  },
  {
   "cell_type": "code",
   "execution_count": 38,
   "metadata": {
    "scrolled": true
   },
   "outputs": [
    {
     "data": {
      "text/plain": [
       "array([ 1,  6,  0,  5,  7, 10,  3, 17,  2,  9,  8, 15, 11, 12, 40, 23,  4,\n",
       "       20, 67, 14, 16, 13, 19])"
      ]
     },
     "execution_count": 38,
     "metadata": {},
     "output_type": "execute_result"
    }
   ],
   "source": [
    "data['11'].unique()"
   ]
  },
  {
   "cell_type": "code",
   "execution_count": 39,
   "metadata": {
    "scrolled": true
   },
   "outputs": [
    {
     "data": {
      "text/plain": [
       "Credit\n",
       "+    AxesSubplot(0.125,0.125;0.775x0.755)\n",
       "-    AxesSubplot(0.125,0.125;0.775x0.755)\n",
       "Name: 11, dtype: object"
      ]
     },
     "execution_count": 39,
     "metadata": {},
     "output_type": "execute_result"
    },
    {
     "data": {
      "image/png": "[encoded data removed]",
      "text/plain": [
       "<Figure size 432x288 with 1 Axes>"
      ]
     },
     "metadata": {
      "needs_background": "light"
     },
     "output_type": "display_data"
    }
   ],
   "source": [
    "data_grouped['11'].hist(alpha=0.6)"
   ]
  },
  {
   "cell_type": "code",
   "execution_count": 40,
   "metadata": {},
   "outputs": [
    {
     "data": {
      "text/plain": [
       "Credit\n",
       "+    AxesSubplot(0.125,0.125;0.775x0.755)\n",
       "-    AxesSubplot(0.125,0.125;0.775x0.755)\n",
       "Name: 11, dtype: object"
      ]
     },
     "execution_count": 40,
     "metadata": {},
     "output_type": "execute_result"
    },
    {
     "data": {
      "image/png": "[encoded data removed]",
      "text/plain": [
       "<Figure size 432x288 with 1 Axes>"
      ]
     },
     "metadata": {
      "needs_background": "light"
     },
     "output_type": "display_data"
    }
   ],
   "source": [
    "data_grouped['11'].plot(kind='kde')"
   ]
  },
  {
   "cell_type": "markdown",
   "metadata": {},
   "source": [
    "---\n",
    "**12**"
   ]
  },
  {
   "cell_type": "code",
   "execution_count": 41,
   "metadata": {
    "scrolled": true
   },
   "outputs": [
    {
     "data": {
      "text/plain": [
       "f    355\n",
       "t    304\n",
       "Name: 12, dtype: int64"
      ]
     },
     "execution_count": 41,
     "metadata": {},
     "output_type": "execute_result"
    }
   ],
   "source": [
    "data['12'].value_counts()"
   ]
  },
  {
   "cell_type": "code",
   "execution_count": 42,
   "metadata": {
    "scrolled": false
   },
   "outputs": [
    {
     "data": {
      "text/plain": [
       "Credit\n",
       "+    AxesSubplot(0.125,0.125;0.775x0.755)\n",
       "-    AxesSubplot(0.125,0.125;0.775x0.755)\n",
       "Name: 12, dtype: object"
      ]
     },
     "execution_count": 42,
     "metadata": {},
     "output_type": "execute_result"
    },
    {
     "data": {
      "image/png": "[encoded data removed]",
      "text/plain": [
       "<Figure size 432x288 with 1 Axes>"
      ]
     },
     "metadata": {
      "needs_background": "light"
     },
     "output_type": "display_data"
    }
   ],
   "source": [
    "data_grouped['12'].hist(alpha=0.6)"
   ]
  },
  {
   "cell_type": "markdown",
   "metadata": {},
   "source": [
    "---\n",
    "**13**"
   ]
  },
  {
   "cell_type": "code",
   "execution_count": 43,
   "metadata": {
    "scrolled": true
   },
   "outputs": [
    {
     "data": {
      "text/plain": [
       "g    604\n",
       "s     53\n",
       "p      2\n",
       "Name: 13, dtype: int64"
      ]
     },
     "execution_count": 43,
     "metadata": {},
     "output_type": "execute_result"
    }
   ],
   "source": [
    "data['13'].value_counts()"
   ]
  },
  {
   "cell_type": "code",
   "execution_count": 44,
   "metadata": {
    "scrolled": false
   },
   "outputs": [
    {
     "data": {
      "text/plain": [
       "Credit\n",
       "+    AxesSubplot(0.125,0.125;0.775x0.755)\n",
       "-    AxesSubplot(0.125,0.125;0.775x0.755)\n",
       "Name: 13, dtype: object"
      ]
     },
     "execution_count": 44,
     "metadata": {},
     "output_type": "execute_result"
    },
    {
     "data": {
      "image/png": "[encoded data removed]",
      "text/plain": [
       "<Figure size 432x288 with 1 Axes>"
      ]
     },
     "metadata": {
      "needs_background": "light"
     },
     "output_type": "display_data"
    }
   ],
   "source": [
    "data_grouped['13'].hist(alpha=0.6)"
   ]
  },
  {
   "cell_type": "markdown",
   "metadata": {},
   "source": [
    "---\n",
    "**14**"
   ]
  },
  {
   "cell_type": "code",
   "execution_count": 45,
   "metadata": {
    "scrolled": true
   },
   "outputs": [
    {
     "data": {
      "text/plain": [
       "array(['00202', '00043', '00280', '00100', '00120', '00360', '00164',\n",
       "       '00080', '00180', '00052', '00128', '00260', '00000', '00320',\n",
       "       '00396', '00096', '00200', '00300', '00145', '00500', '00168',\n",
       "       '00434', '00583', '00030', '00240', '00070', '00455', '00311',\n",
       "       '00216', '00491', '00400', '00239', '00160', '00711', '00250',\n",
       "       '00520', '00515', '00420', '?', '00980', '00443', '00140', '00094',\n",
       "       '00368', '00288', '00188', '00112', '00171', '00268', '00167',\n",
       "       '00075', '00152', '00176', '00329', '00212', '00410', '00274',\n",
       "       '00375', '00408', '00350', '00204', '00040', '00181', '00399',\n",
       "       '00440', '00093', '00060', '00395', '00393', '00021', '00029',\n",
       "       '00102', '00431', '00370', '00024', '00020', '00129', '00510',\n",
       "       '00195', '00144', '00380', '00049', '00050', '00381', '00150',\n",
       "       '00117', '00056', '00211', '00230', '00156', '00022', '00228',\n",
       "       '00519', '00253', '00487', '00220', '00088', '00121', '00470',\n",
       "       '00136', '00132', '00292', '00154', '00272', '00340', '00108',\n",
       "       '00720', '00450', '00232', '00170', '00460', '00348', '00480',\n",
       "       '00640', '00276', '00221', '00352', '00141', '00178', '00600',\n",
       "       '00550', '00073', '02000', '00225', '00210', '00110', '00356',\n",
       "       '00045', '00062', '00092', '00174', '00017', '00086', '00454',\n",
       "       '00254', '00028', '00333', '00312', '00371', '00099', '00252',\n",
       "       '00760', '00560', '00130', '00523', '00680', '00163', '00208',\n",
       "       '00383', '00330', '00422', '00290', '00840', '00432', '00032',\n",
       "       '00186', '00303', '00349', '00224', '00369', '00076', '00231',\n",
       "       '00309', '00416', '00465'], dtype=object)"
      ]
     },
     "execution_count": 45,
     "metadata": {},
     "output_type": "execute_result"
    }
   ],
   "source": [
    "data['14'].unique()"
   ]
  },
  {
   "cell_type": "code",
   "execution_count": 46,
   "metadata": {},
   "outputs": [],
   "source": [
    "# также уберем строки с вопросом\n",
    "data = data[data['14'] != '?']\n",
    "data_grouped = data.groupby(\"Credit\")"
   ]
  },
  {
   "cell_type": "markdown",
   "metadata": {},
   "source": [
    "Преобразуем колонку в вещественный тип."
   ]
  },
  {
   "cell_type": "code",
   "execution_count": 47,
   "metadata": {},
   "outputs": [],
   "source": [
    "data['14'] = pd.to_numeric(data['14'])"
   ]
  },
  {
   "cell_type": "code",
   "execution_count": 48,
   "metadata": {
    "scrolled": false
   },
   "outputs": [
    {
     "data": {
      "text/plain": [
       "Credit\n",
       "+    AxesSubplot(0.125,0.125;0.775x0.755)\n",
       "-    AxesSubplot(0.125,0.125;0.775x0.755)\n",
       "Name: 14, dtype: object"
      ]
     },
     "execution_count": 48,
     "metadata": {},
     "output_type": "execute_result"
    },
    {
     "data": {
      "image/png": "[encoded data removed]",
      "text/plain": [
       "<Figure size 432x288 with 1 Axes>"
      ]
     },
     "metadata": {
      "needs_background": "light"
     },
     "output_type": "display_data"
    }
   ],
   "source": [
    "data_grouped['14'].hist(alpha=0.6)"
   ]
  },
  {
   "cell_type": "code",
   "execution_count": 49,
   "metadata": {},
   "outputs": [
    {
     "data": {
      "text/plain": [
       "Credit\n",
       "+    AxesSubplot(0.125,0.125;0.775x0.755)\n",
       "-    AxesSubplot(0.125,0.125;0.775x0.755)\n",
       "Name: 14, dtype: object"
      ]
     },
     "execution_count": 49,
     "metadata": {},
     "output_type": "execute_result"
    },
    {
     "data": {
      "image/png": "[encoded data removed]",
      "text/plain": [
       "<Figure size 432x288 with 1 Axes>"
      ]
     },
     "metadata": {
      "needs_background": "light"
     },
     "output_type": "display_data"
    }
   ],
   "source": [
    "data_grouped['14'].plot(kind='kde')"
   ]
  },
  {
   "cell_type": "markdown",
   "metadata": {},
   "source": [
    "---\n",
    "**Credit**"
   ]
  },
  {
   "cell_type": "code",
   "execution_count": 50,
   "metadata": {},
   "outputs": [
    {
     "data": {
      "text/plain": [
       "array(['+', '-'], dtype=object)"
      ]
     },
     "execution_count": 50,
     "metadata": {},
     "output_type": "execute_result"
    }
   ],
   "source": [
    "data['Credit'].unique()"
   ]
  },
  {
   "cell_type": "markdown",
   "metadata": {},
   "source": [
    "Заменим положительные результаты на 1, отрицательные на 0."
   ]
  },
  {
   "cell_type": "code",
   "execution_count": 51,
   "metadata": {},
   "outputs": [],
   "source": [
    "data.loc[data['Credit'] == '+', 'Credit'] = 1\n",
    "data.loc[data['Credit'] == '-', 'Credit'] = 0"
   ]
  },
  {
   "cell_type": "code",
   "execution_count": 52,
   "metadata": {},
   "outputs": [
    {
     "data": {
      "text/plain": [
       "array([1, 0], dtype=object)"
      ]
     },
     "execution_count": 52,
     "metadata": {},
     "output_type": "execute_result"
    }
   ],
   "source": [
    "data['Credit'].unique()"
   ]
  },
  {
   "cell_type": "code",
   "execution_count": 53,
   "metadata": {},
   "outputs": [],
   "source": [
    "data['Credit'] = data['Credit'].astype(int)"
   ]
  },
  {
   "cell_type": "markdown",
   "metadata": {},
   "source": [
    "## Часть 2. Preprocessing & Feature Engineering\n",
    "\n",
    "Так как мы убирали некоторые строки из нашего датасета, необходимо обновить индекс"
   ]
  },
  {
   "cell_type": "code",
   "execution_count": 54,
   "metadata": {},
   "outputs": [
    {
     "data": {
      "text/html": [
       "<div>\n",
       "<style scoped>\n",
       "    .dataframe tbody tr th:only-of-type {\n",
       "        vertical-align: middle;\n",
       "    }\n",
       "\n",
       "    .dataframe tbody tr th {\n",
       "        vertical-align: top;\n",
       "    }\n",
       "\n",
       "    .dataframe thead th {\n",
       "        text-align: right;\n",
       "    }\n",
       "</style>\n",
       "<table border=\"1\" class=\"dataframe\">\n",
       "  <thead>\n",
       "    <tr style=\"text-align: right;\">\n",
       "      <th></th>\n",
       "      <th>1</th>\n",
       "      <th>2</th>\n",
       "      <th>3</th>\n",
       "      <th>4</th>\n",
       "      <th>5</th>\n",
       "      <th>6</th>\n",
       "      <th>7</th>\n",
       "      <th>8</th>\n",
       "      <th>9</th>\n",
       "      <th>10</th>\n",
       "      <th>11</th>\n",
       "      <th>12</th>\n",
       "      <th>13</th>\n",
       "      <th>14</th>\n",
       "      <th>15</th>\n",
       "      <th>Credit</th>\n",
       "    </tr>\n",
       "  </thead>\n",
       "  <tbody>\n",
       "    <tr>\n",
       "      <th>0</th>\n",
       "      <td>b</td>\n",
       "      <td>30.83</td>\n",
       "      <td>0.000</td>\n",
       "      <td>u</td>\n",
       "      <td>g</td>\n",
       "      <td>w</td>\n",
       "      <td>v</td>\n",
       "      <td>1.25</td>\n",
       "      <td>t</td>\n",
       "      <td>t</td>\n",
       "      <td>1</td>\n",
       "      <td>f</td>\n",
       "      <td>g</td>\n",
       "      <td>202</td>\n",
       "      <td>0</td>\n",
       "      <td>1</td>\n",
       "    </tr>\n",
       "    <tr>\n",
       "      <th>1</th>\n",
       "      <td>a</td>\n",
       "      <td>58.67</td>\n",
       "      <td>4.460</td>\n",
       "      <td>u</td>\n",
       "      <td>g</td>\n",
       "      <td>q</td>\n",
       "      <td>h</td>\n",
       "      <td>3.04</td>\n",
       "      <td>t</td>\n",
       "      <td>t</td>\n",
       "      <td>6</td>\n",
       "      <td>f</td>\n",
       "      <td>g</td>\n",
       "      <td>43</td>\n",
       "      <td>560</td>\n",
       "      <td>1</td>\n",
       "    </tr>\n",
       "    <tr>\n",
       "      <th>2</th>\n",
       "      <td>a</td>\n",
       "      <td>24.50</td>\n",
       "      <td>0.500</td>\n",
       "      <td>u</td>\n",
       "      <td>g</td>\n",
       "      <td>q</td>\n",
       "      <td>h</td>\n",
       "      <td>1.50</td>\n",
       "      <td>t</td>\n",
       "      <td>f</td>\n",
       "      <td>0</td>\n",
       "      <td>f</td>\n",
       "      <td>g</td>\n",
       "      <td>280</td>\n",
       "      <td>824</td>\n",
       "      <td>1</td>\n",
       "    </tr>\n",
       "    <tr>\n",
       "      <th>3</th>\n",
       "      <td>b</td>\n",
       "      <td>27.83</td>\n",
       "      <td>1.540</td>\n",
       "      <td>u</td>\n",
       "      <td>g</td>\n",
       "      <td>w</td>\n",
       "      <td>v</td>\n",
       "      <td>3.75</td>\n",
       "      <td>t</td>\n",
       "      <td>t</td>\n",
       "      <td>5</td>\n",
       "      <td>t</td>\n",
       "      <td>g</td>\n",
       "      <td>100</td>\n",
       "      <td>3</td>\n",
       "      <td>1</td>\n",
       "    </tr>\n",
       "    <tr>\n",
       "      <th>4</th>\n",
       "      <td>b</td>\n",
       "      <td>20.17</td>\n",
       "      <td>5.625</td>\n",
       "      <td>u</td>\n",
       "      <td>g</td>\n",
       "      <td>w</td>\n",
       "      <td>v</td>\n",
       "      <td>1.71</td>\n",
       "      <td>t</td>\n",
       "      <td>f</td>\n",
       "      <td>0</td>\n",
       "      <td>f</td>\n",
       "      <td>s</td>\n",
       "      <td>120</td>\n",
       "      <td>0</td>\n",
       "      <td>1</td>\n",
       "    </tr>\n",
       "  </tbody>\n",
       "</table>\n",
       "</div>"
      ],
      "text/plain": [
       "   1      2      3  4  5  6  7     8  9 10  11 12 13   14   15  Credit\n",
       "0  b  30.83  0.000  u  g  w  v  1.25  t  t   1  f  g  202    0       1\n",
       "1  a  58.67  4.460  u  g  q  h  3.04  t  t   6  f  g   43  560       1\n",
       "2  a  24.50  0.500  u  g  q  h  1.50  t  f   0  f  g  280  824       1\n",
       "3  b  27.83  1.540  u  g  w  v  3.75  t  t   5  t  g  100    3       1\n",
       "4  b  20.17  5.625  u  g  w  v  1.71  t  f   0  f  s  120    0       1"
      ]
     },
     "execution_count": 54,
     "metadata": {},
     "output_type": "execute_result"
    }
   ],
   "source": [
    "data.reset_index(drop=True, inplace=True)\n",
    "data.head()"
   ]
  },
  {
   "cell_type": "code",
   "execution_count": 55,
   "metadata": {},
   "outputs": [
    {
     "name": "stdout",
     "output_type": "stream",
     "text": [
      "<class 'pandas.core.frame.DataFrame'>\n",
      "RangeIndex: 653 entries, 0 to 652\n",
      "Data columns (total 16 columns):\n",
      " #   Column  Non-Null Count  Dtype  \n",
      "---  ------  --------------  -----  \n",
      " 0   1       653 non-null    object \n",
      " 1   2       653 non-null    float64\n",
      " 2   3       653 non-null    float64\n",
      " 3   4       653 non-null    object \n",
      " 4   5       653 non-null    object \n",
      " 5   6       653 non-null    object \n",
      " 6   7       653 non-null    object \n",
      " 7   8       653 non-null    float64\n",
      " 8   9       653 non-null    object \n",
      " 9   10      653 non-null    object \n",
      " 10  11      653 non-null    int64  \n",
      " 11  12      653 non-null    object \n",
      " 12  13      653 non-null    object \n",
      " 13  14      653 non-null    int64  \n",
      " 14  15      653 non-null    int64  \n",
      " 15  Credit  653 non-null    int64  \n",
      "dtypes: float64(3), int64(4), object(9)\n",
      "memory usage: 81.8+ KB\n"
     ]
    }
   ],
   "source": [
    "data.info()"
   ]
  },
  {
   "cell_type": "markdown",
   "metadata": {},
   "source": [
    "Переведем категориальные переменные в уникальные лейблы, используя LabelEncoder и OneHotEncoder."
   ]
  },
  {
   "cell_type": "code",
   "execution_count": 56,
   "metadata": {},
   "outputs": [],
   "source": [
    "original_data = data.copy()"
   ]
  },
  {
   "cell_type": "code",
   "execution_count": 57,
   "metadata": {},
   "outputs": [
    {
     "data": {
      "text/html": [
       "<div>\n",
       "<style scoped>\n",
       "    .dataframe tbody tr th:only-of-type {\n",
       "        vertical-align: middle;\n",
       "    }\n",
       "\n",
       "    .dataframe tbody tr th {\n",
       "        vertical-align: top;\n",
       "    }\n",
       "\n",
       "    .dataframe thead th {\n",
       "        text-align: right;\n",
       "    }\n",
       "</style>\n",
       "<table border=\"1\" class=\"dataframe\">\n",
       "  <thead>\n",
       "    <tr style=\"text-align: right;\">\n",
       "      <th></th>\n",
       "      <th>1</th>\n",
       "      <th>2</th>\n",
       "      <th>3</th>\n",
       "      <th>4</th>\n",
       "      <th>5</th>\n",
       "      <th>6</th>\n",
       "      <th>7</th>\n",
       "      <th>8</th>\n",
       "      <th>9</th>\n",
       "      <th>10</th>\n",
       "      <th>11</th>\n",
       "      <th>12</th>\n",
       "      <th>13</th>\n",
       "      <th>14</th>\n",
       "      <th>15</th>\n",
       "      <th>Credit</th>\n",
       "    </tr>\n",
       "  </thead>\n",
       "  <tbody>\n",
       "    <tr>\n",
       "      <th>0</th>\n",
       "      <td>b</td>\n",
       "      <td>30.83</td>\n",
       "      <td>0.000</td>\n",
       "      <td>u</td>\n",
       "      <td>g</td>\n",
       "      <td>w</td>\n",
       "      <td>v</td>\n",
       "      <td>1.25</td>\n",
       "      <td>t</td>\n",
       "      <td>t</td>\n",
       "      <td>1</td>\n",
       "      <td>f</td>\n",
       "      <td>g</td>\n",
       "      <td>202</td>\n",
       "      <td>0</td>\n",
       "      <td>1</td>\n",
       "    </tr>\n",
       "    <tr>\n",
       "      <th>1</th>\n",
       "      <td>a</td>\n",
       "      <td>58.67</td>\n",
       "      <td>4.460</td>\n",
       "      <td>u</td>\n",
       "      <td>g</td>\n",
       "      <td>q</td>\n",
       "      <td>h</td>\n",
       "      <td>3.04</td>\n",
       "      <td>t</td>\n",
       "      <td>t</td>\n",
       "      <td>6</td>\n",
       "      <td>f</td>\n",
       "      <td>g</td>\n",
       "      <td>43</td>\n",
       "      <td>560</td>\n",
       "      <td>1</td>\n",
       "    </tr>\n",
       "    <tr>\n",
       "      <th>2</th>\n",
       "      <td>a</td>\n",
       "      <td>24.50</td>\n",
       "      <td>0.500</td>\n",
       "      <td>u</td>\n",
       "      <td>g</td>\n",
       "      <td>q</td>\n",
       "      <td>h</td>\n",
       "      <td>1.50</td>\n",
       "      <td>t</td>\n",
       "      <td>f</td>\n",
       "      <td>0</td>\n",
       "      <td>f</td>\n",
       "      <td>g</td>\n",
       "      <td>280</td>\n",
       "      <td>824</td>\n",
       "      <td>1</td>\n",
       "    </tr>\n",
       "    <tr>\n",
       "      <th>3</th>\n",
       "      <td>b</td>\n",
       "      <td>27.83</td>\n",
       "      <td>1.540</td>\n",
       "      <td>u</td>\n",
       "      <td>g</td>\n",
       "      <td>w</td>\n",
       "      <td>v</td>\n",
       "      <td>3.75</td>\n",
       "      <td>t</td>\n",
       "      <td>t</td>\n",
       "      <td>5</td>\n",
       "      <td>t</td>\n",
       "      <td>g</td>\n",
       "      <td>100</td>\n",
       "      <td>3</td>\n",
       "      <td>1</td>\n",
       "    </tr>\n",
       "    <tr>\n",
       "      <th>4</th>\n",
       "      <td>b</td>\n",
       "      <td>20.17</td>\n",
       "      <td>5.625</td>\n",
       "      <td>u</td>\n",
       "      <td>g</td>\n",
       "      <td>w</td>\n",
       "      <td>v</td>\n",
       "      <td>1.71</td>\n",
       "      <td>t</td>\n",
       "      <td>f</td>\n",
       "      <td>0</td>\n",
       "      <td>f</td>\n",
       "      <td>s</td>\n",
       "      <td>120</td>\n",
       "      <td>0</td>\n",
       "      <td>1</td>\n",
       "    </tr>\n",
       "    <tr>\n",
       "      <th>...</th>\n",
       "      <td>...</td>\n",
       "      <td>...</td>\n",
       "      <td>...</td>\n",
       "      <td>...</td>\n",
       "      <td>...</td>\n",
       "      <td>...</td>\n",
       "      <td>...</td>\n",
       "      <td>...</td>\n",
       "      <td>...</td>\n",
       "      <td>...</td>\n",
       "      <td>...</td>\n",
       "      <td>...</td>\n",
       "      <td>...</td>\n",
       "      <td>...</td>\n",
       "      <td>...</td>\n",
       "      <td>...</td>\n",
       "    </tr>\n",
       "    <tr>\n",
       "      <th>648</th>\n",
       "      <td>b</td>\n",
       "      <td>21.08</td>\n",
       "      <td>10.085</td>\n",
       "      <td>y</td>\n",
       "      <td>p</td>\n",
       "      <td>e</td>\n",
       "      <td>h</td>\n",
       "      <td>1.25</td>\n",
       "      <td>f</td>\n",
       "      <td>f</td>\n",
       "      <td>0</td>\n",
       "      <td>f</td>\n",
       "      <td>g</td>\n",
       "      <td>260</td>\n",
       "      <td>0</td>\n",
       "      <td>0</td>\n",
       "    </tr>\n",
       "    <tr>\n",
       "      <th>649</th>\n",
       "      <td>a</td>\n",
       "      <td>22.67</td>\n",
       "      <td>0.750</td>\n",
       "      <td>u</td>\n",
       "      <td>g</td>\n",
       "      <td>c</td>\n",
       "      <td>v</td>\n",
       "      <td>2.00</td>\n",
       "      <td>f</td>\n",
       "      <td>t</td>\n",
       "      <td>2</td>\n",
       "      <td>t</td>\n",
       "      <td>g</td>\n",
       "      <td>200</td>\n",
       "      <td>394</td>\n",
       "      <td>0</td>\n",
       "    </tr>\n",
       "    <tr>\n",
       "      <th>650</th>\n",
       "      <td>a</td>\n",
       "      <td>25.25</td>\n",
       "      <td>13.500</td>\n",
       "      <td>y</td>\n",
       "      <td>p</td>\n",
       "      <td>ff</td>\n",
       "      <td>ff</td>\n",
       "      <td>2.00</td>\n",
       "      <td>f</td>\n",
       "      <td>t</td>\n",
       "      <td>1</td>\n",
       "      <td>t</td>\n",
       "      <td>g</td>\n",
       "      <td>200</td>\n",
       "      <td>1</td>\n",
       "      <td>0</td>\n",
       "    </tr>\n",
       "    <tr>\n",
       "      <th>651</th>\n",
       "      <td>b</td>\n",
       "      <td>17.92</td>\n",
       "      <td>0.205</td>\n",
       "      <td>u</td>\n",
       "      <td>g</td>\n",
       "      <td>aa</td>\n",
       "      <td>v</td>\n",
       "      <td>0.04</td>\n",
       "      <td>f</td>\n",
       "      <td>f</td>\n",
       "      <td>0</td>\n",
       "      <td>f</td>\n",
       "      <td>g</td>\n",
       "      <td>280</td>\n",
       "      <td>750</td>\n",
       "      <td>0</td>\n",
       "    </tr>\n",
       "    <tr>\n",
       "      <th>652</th>\n",
       "      <td>b</td>\n",
       "      <td>35.00</td>\n",
       "      <td>3.375</td>\n",
       "      <td>u</td>\n",
       "      <td>g</td>\n",
       "      <td>c</td>\n",
       "      <td>h</td>\n",
       "      <td>8.29</td>\n",
       "      <td>f</td>\n",
       "      <td>f</td>\n",
       "      <td>0</td>\n",
       "      <td>t</td>\n",
       "      <td>g</td>\n",
       "      <td>0</td>\n",
       "      <td>0</td>\n",
       "      <td>0</td>\n",
       "    </tr>\n",
       "  </tbody>\n",
       "</table>\n",
       "<p>653 rows × 16 columns</p>\n",
       "</div>"
      ],
      "text/plain": [
       "     1      2       3  4  5   6   7     8  9 10  11 12 13   14   15  Credit\n",
       "0    b  30.83   0.000  u  g   w   v  1.25  t  t   1  f  g  202    0       1\n",
       "1    a  58.67   4.460  u  g   q   h  3.04  t  t   6  f  g   43  560       1\n",
       "2    a  24.50   0.500  u  g   q   h  1.50  t  f   0  f  g  280  824       1\n",
       "3    b  27.83   1.540  u  g   w   v  3.75  t  t   5  t  g  100    3       1\n",
       "4    b  20.17   5.625  u  g   w   v  1.71  t  f   0  f  s  120    0       1\n",
       "..  ..    ...     ... .. ..  ..  ..   ... .. ..  .. .. ..  ...  ...     ...\n",
       "648  b  21.08  10.085  y  p   e   h  1.25  f  f   0  f  g  260    0       0\n",
       "649  a  22.67   0.750  u  g   c   v  2.00  f  t   2  t  g  200  394       0\n",
       "650  a  25.25  13.500  y  p  ff  ff  2.00  f  t   1  t  g  200    1       0\n",
       "651  b  17.92   0.205  u  g  aa   v  0.04  f  f   0  f  g  280  750       0\n",
       "652  b  35.00   3.375  u  g   c   h  8.29  f  f   0  t  g    0    0       0\n",
       "\n",
       "[653 rows x 16 columns]"
      ]
     },
     "execution_count": 57,
     "metadata": {},
     "output_type": "execute_result"
    }
   ],
   "source": [
    "original_data"
   ]
  },
  {
   "cell_type": "code",
   "execution_count": 58,
   "metadata": {},
   "outputs": [],
   "source": [
    "data = original_data.copy()"
   ]
  },
  {
   "cell_type": "code",
   "execution_count": 59,
   "metadata": {},
   "outputs": [],
   "source": [
    "data = pd.concat([\n",
    "    data, \n",
    "    pd.get_dummies(data['1'], prefix='1_')],\n",
    "    axis=1\n",
    ")\n",
    "data.drop(['1'], inplace=True, axis=1)"
   ]
  },
  {
   "cell_type": "code",
   "execution_count": 60,
   "metadata": {},
   "outputs": [],
   "source": [
    "data = pd.concat([\n",
    "    data, \n",
    "    pd.get_dummies(data['4'], prefix='4_')],\n",
    "    axis=1\n",
    ")\n",
    "data.drop(['4'], inplace=True, axis=1)"
   ]
  },
  {
   "cell_type": "code",
   "execution_count": 61,
   "metadata": {},
   "outputs": [],
   "source": [
    "data = pd.concat([\n",
    "    data, \n",
    "    pd.get_dummies(data['5'], prefix='5_')],\n",
    "    axis=1\n",
    ")\n",
    "data.drop(['5'], inplace=True, axis=1)"
   ]
  },
  {
   "cell_type": "code",
   "execution_count": 62,
   "metadata": {},
   "outputs": [],
   "source": [
    "data = pd.concat([\n",
    "    data, \n",
    "    pd.get_dummies(data['9'], prefix='9_')],\n",
    "    axis=1\n",
    ")\n",
    "data.drop(['9'], inplace=True, axis=1)"
   ]
  },
  {
   "cell_type": "code",
   "execution_count": 63,
   "metadata": {},
   "outputs": [],
   "source": [
    "data = pd.concat([\n",
    "    data, \n",
    "    pd.get_dummies(data['10'], prefix='10_')],\n",
    "    axis=1\n",
    ")\n",
    "data.drop(['10'], inplace=True, axis=1)"
   ]
  },
  {
   "cell_type": "code",
   "execution_count": 64,
   "metadata": {},
   "outputs": [],
   "source": [
    "data = pd.concat([\n",
    "    data, \n",
    "    pd.get_dummies(data['12'], prefix='12_')],\n",
    "    axis=1\n",
    ")\n",
    "data.drop(['12'], inplace=True, axis=1)"
   ]
  },
  {
   "cell_type": "code",
   "execution_count": 65,
   "metadata": {},
   "outputs": [],
   "source": [
    "data = pd.concat([\n",
    "    data, \n",
    "    pd.get_dummies(data['13'], prefix='13_')],\n",
    "    axis=1\n",
    ")\n",
    "data.drop(['13'], inplace=True, axis=1)"
   ]
  },
  {
   "cell_type": "code",
   "execution_count": 66,
   "metadata": {},
   "outputs": [],
   "source": [
    "label_encoder = LabelEncoder()\n",
    "data['6_encoded'] = label_encoder.fit_transform(data['6'])\n",
    "data['7_encoded'] = label_encoder.fit_transform(data['7'])\n",
    "data.drop(['6', '7'], inplace=True, axis=1)"
   ]
  },
  {
   "cell_type": "code",
   "execution_count": 67,
   "metadata": {},
   "outputs": [
    {
     "data": {
      "text/html": [
       "<div>\n",
       "<style scoped>\n",
       "    .dataframe tbody tr th:only-of-type {\n",
       "        vertical-align: middle;\n",
       "    }\n",
       "\n",
       "    .dataframe tbody tr th {\n",
       "        vertical-align: top;\n",
       "    }\n",
       "\n",
       "    .dataframe thead th {\n",
       "        text-align: right;\n",
       "    }\n",
       "</style>\n",
       "<table border=\"1\" class=\"dataframe\">\n",
       "  <thead>\n",
       "    <tr style=\"text-align: right;\">\n",
       "      <th></th>\n",
       "      <th>2</th>\n",
       "      <th>3</th>\n",
       "      <th>8</th>\n",
       "      <th>11</th>\n",
       "      <th>14</th>\n",
       "      <th>15</th>\n",
       "      <th>Credit</th>\n",
       "      <th>1__a</th>\n",
       "      <th>1__b</th>\n",
       "      <th>4__l</th>\n",
       "      <th>...</th>\n",
       "      <th>9__t</th>\n",
       "      <th>10__f</th>\n",
       "      <th>10__t</th>\n",
       "      <th>12__f</th>\n",
       "      <th>12__t</th>\n",
       "      <th>13__g</th>\n",
       "      <th>13__p</th>\n",
       "      <th>13__s</th>\n",
       "      <th>6_encoded</th>\n",
       "      <th>7_encoded</th>\n",
       "    </tr>\n",
       "  </thead>\n",
       "  <tbody>\n",
       "    <tr>\n",
       "      <th>0</th>\n",
       "      <td>30.83</td>\n",
       "      <td>0.000</td>\n",
       "      <td>1.25</td>\n",
       "      <td>1</td>\n",
       "      <td>202</td>\n",
       "      <td>0</td>\n",
       "      <td>1</td>\n",
       "      <td>0</td>\n",
       "      <td>1</td>\n",
       "      <td>0</td>\n",
       "      <td>...</td>\n",
       "      <td>1</td>\n",
       "      <td>0</td>\n",
       "      <td>1</td>\n",
       "      <td>1</td>\n",
       "      <td>0</td>\n",
       "      <td>1</td>\n",
       "      <td>0</td>\n",
       "      <td>0</td>\n",
       "      <td>12</td>\n",
       "      <td>7</td>\n",
       "    </tr>\n",
       "    <tr>\n",
       "      <th>1</th>\n",
       "      <td>58.67</td>\n",
       "      <td>4.460</td>\n",
       "      <td>3.04</td>\n",
       "      <td>6</td>\n",
       "      <td>43</td>\n",
       "      <td>560</td>\n",
       "      <td>1</td>\n",
       "      <td>1</td>\n",
       "      <td>0</td>\n",
       "      <td>0</td>\n",
       "      <td>...</td>\n",
       "      <td>1</td>\n",
       "      <td>0</td>\n",
       "      <td>1</td>\n",
       "      <td>1</td>\n",
       "      <td>0</td>\n",
       "      <td>1</td>\n",
       "      <td>0</td>\n",
       "      <td>0</td>\n",
       "      <td>10</td>\n",
       "      <td>3</td>\n",
       "    </tr>\n",
       "    <tr>\n",
       "      <th>2</th>\n",
       "      <td>24.50</td>\n",
       "      <td>0.500</td>\n",
       "      <td>1.50</td>\n",
       "      <td>0</td>\n",
       "      <td>280</td>\n",
       "      <td>824</td>\n",
       "      <td>1</td>\n",
       "      <td>1</td>\n",
       "      <td>0</td>\n",
       "      <td>0</td>\n",
       "      <td>...</td>\n",
       "      <td>1</td>\n",
       "      <td>1</td>\n",
       "      <td>0</td>\n",
       "      <td>1</td>\n",
       "      <td>0</td>\n",
       "      <td>1</td>\n",
       "      <td>0</td>\n",
       "      <td>0</td>\n",
       "      <td>10</td>\n",
       "      <td>3</td>\n",
       "    </tr>\n",
       "    <tr>\n",
       "      <th>3</th>\n",
       "      <td>27.83</td>\n",
       "      <td>1.540</td>\n",
       "      <td>3.75</td>\n",
       "      <td>5</td>\n",
       "      <td>100</td>\n",
       "      <td>3</td>\n",
       "      <td>1</td>\n",
       "      <td>0</td>\n",
       "      <td>1</td>\n",
       "      <td>0</td>\n",
       "      <td>...</td>\n",
       "      <td>1</td>\n",
       "      <td>0</td>\n",
       "      <td>1</td>\n",
       "      <td>0</td>\n",
       "      <td>1</td>\n",
       "      <td>1</td>\n",
       "      <td>0</td>\n",
       "      <td>0</td>\n",
       "      <td>12</td>\n",
       "      <td>7</td>\n",
       "    </tr>\n",
       "    <tr>\n",
       "      <th>4</th>\n",
       "      <td>20.17</td>\n",
       "      <td>5.625</td>\n",
       "      <td>1.71</td>\n",
       "      <td>0</td>\n",
       "      <td>120</td>\n",
       "      <td>0</td>\n",
       "      <td>1</td>\n",
       "      <td>0</td>\n",
       "      <td>1</td>\n",
       "      <td>0</td>\n",
       "      <td>...</td>\n",
       "      <td>1</td>\n",
       "      <td>1</td>\n",
       "      <td>0</td>\n",
       "      <td>1</td>\n",
       "      <td>0</td>\n",
       "      <td>0</td>\n",
       "      <td>0</td>\n",
       "      <td>1</td>\n",
       "      <td>12</td>\n",
       "      <td>7</td>\n",
       "    </tr>\n",
       "    <tr>\n",
       "      <th>...</th>\n",
       "      <td>...</td>\n",
       "      <td>...</td>\n",
       "      <td>...</td>\n",
       "      <td>...</td>\n",
       "      <td>...</td>\n",
       "      <td>...</td>\n",
       "      <td>...</td>\n",
       "      <td>...</td>\n",
       "      <td>...</td>\n",
       "      <td>...</td>\n",
       "      <td>...</td>\n",
       "      <td>...</td>\n",
       "      <td>...</td>\n",
       "      <td>...</td>\n",
       "      <td>...</td>\n",
       "      <td>...</td>\n",
       "      <td>...</td>\n",
       "      <td>...</td>\n",
       "      <td>...</td>\n",
       "      <td>...</td>\n",
       "      <td>...</td>\n",
       "    </tr>\n",
       "    <tr>\n",
       "      <th>648</th>\n",
       "      <td>21.08</td>\n",
       "      <td>10.085</td>\n",
       "      <td>1.25</td>\n",
       "      <td>0</td>\n",
       "      <td>260</td>\n",
       "      <td>0</td>\n",
       "      <td>0</td>\n",
       "      <td>0</td>\n",
       "      <td>1</td>\n",
       "      <td>0</td>\n",
       "      <td>...</td>\n",
       "      <td>0</td>\n",
       "      <td>1</td>\n",
       "      <td>0</td>\n",
       "      <td>1</td>\n",
       "      <td>0</td>\n",
       "      <td>1</td>\n",
       "      <td>0</td>\n",
       "      <td>0</td>\n",
       "      <td>4</td>\n",
       "      <td>3</td>\n",
       "    </tr>\n",
       "    <tr>\n",
       "      <th>649</th>\n",
       "      <td>22.67</td>\n",
       "      <td>0.750</td>\n",
       "      <td>2.00</td>\n",
       "      <td>2</td>\n",
       "      <td>200</td>\n",
       "      <td>394</td>\n",
       "      <td>0</td>\n",
       "      <td>1</td>\n",
       "      <td>0</td>\n",
       "      <td>0</td>\n",
       "      <td>...</td>\n",
       "      <td>0</td>\n",
       "      <td>0</td>\n",
       "      <td>1</td>\n",
       "      <td>0</td>\n",
       "      <td>1</td>\n",
       "      <td>1</td>\n",
       "      <td>0</td>\n",
       "      <td>0</td>\n",
       "      <td>1</td>\n",
       "      <td>7</td>\n",
       "    </tr>\n",
       "    <tr>\n",
       "      <th>650</th>\n",
       "      <td>25.25</td>\n",
       "      <td>13.500</td>\n",
       "      <td>2.00</td>\n",
       "      <td>1</td>\n",
       "      <td>200</td>\n",
       "      <td>1</td>\n",
       "      <td>0</td>\n",
       "      <td>1</td>\n",
       "      <td>0</td>\n",
       "      <td>0</td>\n",
       "      <td>...</td>\n",
       "      <td>0</td>\n",
       "      <td>0</td>\n",
       "      <td>1</td>\n",
       "      <td>0</td>\n",
       "      <td>1</td>\n",
       "      <td>1</td>\n",
       "      <td>0</td>\n",
       "      <td>0</td>\n",
       "      <td>5</td>\n",
       "      <td>2</td>\n",
       "    </tr>\n",
       "    <tr>\n",
       "      <th>651</th>\n",
       "      <td>17.92</td>\n",
       "      <td>0.205</td>\n",
       "      <td>0.04</td>\n",
       "      <td>0</td>\n",
       "      <td>280</td>\n",
       "      <td>750</td>\n",
       "      <td>0</td>\n",
       "      <td>0</td>\n",
       "      <td>1</td>\n",
       "      <td>0</td>\n",
       "      <td>...</td>\n",
       "      <td>0</td>\n",
       "      <td>1</td>\n",
       "      <td>0</td>\n",
       "      <td>1</td>\n",
       "      <td>0</td>\n",
       "      <td>1</td>\n",
       "      <td>0</td>\n",
       "      <td>0</td>\n",
       "      <td>0</td>\n",
       "      <td>7</td>\n",
       "    </tr>\n",
       "    <tr>\n",
       "      <th>652</th>\n",
       "      <td>35.00</td>\n",
       "      <td>3.375</td>\n",
       "      <td>8.29</td>\n",
       "      <td>0</td>\n",
       "      <td>0</td>\n",
       "      <td>0</td>\n",
       "      <td>0</td>\n",
       "      <td>0</td>\n",
       "      <td>1</td>\n",
       "      <td>0</td>\n",
       "      <td>...</td>\n",
       "      <td>0</td>\n",
       "      <td>1</td>\n",
       "      <td>0</td>\n",
       "      <td>0</td>\n",
       "      <td>1</td>\n",
       "      <td>1</td>\n",
       "      <td>0</td>\n",
       "      <td>0</td>\n",
       "      <td>1</td>\n",
       "      <td>3</td>\n",
       "    </tr>\n",
       "  </tbody>\n",
       "</table>\n",
       "<p>653 rows × 26 columns</p>\n",
       "</div>"
      ],
      "text/plain": [
       "         2       3     8  11   14   15  Credit  1__a  1__b  4__l  ...  9__t  \\\n",
       "0    30.83   0.000  1.25   1  202    0       1     0     1     0  ...     1   \n",
       "1    58.67   4.460  3.04   6   43  560       1     1     0     0  ...     1   \n",
       "2    24.50   0.500  1.50   0  280  824       1     1     0     0  ...     1   \n",
       "3    27.83   1.540  3.75   5  100    3       1     0     1     0  ...     1   \n",
       "4    20.17   5.625  1.71   0  120    0       1     0     1     0  ...     1   \n",
       "..     ...     ...   ...  ..  ...  ...     ...   ...   ...   ...  ...   ...   \n",
       "648  21.08  10.085  1.25   0  260    0       0     0     1     0  ...     0   \n",
       "649  22.67   0.750  2.00   2  200  394       0     1     0     0  ...     0   \n",
       "650  25.25  13.500  2.00   1  200    1       0     1     0     0  ...     0   \n",
       "651  17.92   0.205  0.04   0  280  750       0     0     1     0  ...     0   \n",
       "652  35.00   3.375  8.29   0    0    0       0     0     1     0  ...     0   \n",
       "\n",
       "     10__f  10__t  12__f  12__t  13__g  13__p  13__s  6_encoded  7_encoded  \n",
       "0        0      1      1      0      1      0      0         12          7  \n",
       "1        0      1      1      0      1      0      0         10          3  \n",
       "2        1      0      1      0      1      0      0         10          3  \n",
       "3        0      1      0      1      1      0      0         12          7  \n",
       "4        1      0      1      0      0      0      1         12          7  \n",
       "..     ...    ...    ...    ...    ...    ...    ...        ...        ...  \n",
       "648      1      0      1      0      1      0      0          4          3  \n",
       "649      0      1      0      1      1      0      0          1          7  \n",
       "650      0      1      0      1      1      0      0          5          2  \n",
       "651      1      0      1      0      1      0      0          0          7  \n",
       "652      1      0      0      1      1      0      0          1          3  \n",
       "\n",
       "[653 rows x 26 columns]"
      ]
     },
     "execution_count": 67,
     "metadata": {},
     "output_type": "execute_result"
    }
   ],
   "source": [
    "data"
   ]
  },
  {
   "cell_type": "markdown",
   "metadata": {},
   "source": [
    "## Часть 3. Моделирование"
   ]
  },
  {
   "cell_type": "markdown",
   "metadata": {},
   "source": [
    "### 3.1 Подготовка данных"
   ]
  },
  {
   "cell_type": "markdown",
   "metadata": {},
   "source": [
    "Сохраним в $X$ все колонки признаки, а в $y$ $-$ целевую переменную."
   ]
  },
  {
   "cell_type": "code",
   "execution_count": 68,
   "metadata": {},
   "outputs": [
    {
     "data": {
      "text/plain": [
       "((653, 25), (653,))"
      ]
     },
     "execution_count": 68,
     "metadata": {},
     "output_type": "execute_result"
    }
   ],
   "source": [
    "X = data.drop('Credit', axis=1)\n",
    "y = data['Credit']\n",
    "\n",
    "X.shape, y.shape"
   ]
  },
  {
   "cell_type": "markdown",
   "metadata": {},
   "source": [
    "Разобьем данные на тренировочный и тестовый наборы."
   ]
  },
  {
   "cell_type": "code",
   "execution_count": 69,
   "metadata": {},
   "outputs": [],
   "source": [
    "X_train, X_test, y_train, y_test = train_test_split(X, y, test_size=0.3, random_state=42)"
   ]
  },
  {
   "cell_type": "code",
   "execution_count": 70,
   "metadata": {},
   "outputs": [
    {
     "data": {
      "text/plain": [
       "((457, 25), (196, 25), (457,), (196,))"
      ]
     },
     "execution_count": 70,
     "metadata": {},
     "output_type": "execute_result"
    }
   ],
   "source": [
    "X_train.shape, X_test.shape, y_train.shape, y_test.shape"
   ]
  },
  {
   "cell_type": "markdown",
   "metadata": {},
   "source": [
    "Можем заметить, что значения некоторых признаков имеют разный масштаб. Приведем к одному масштабу непрерывные признаки."
   ]
  },
  {
   "cell_type": "code",
   "execution_count": 71,
   "metadata": {},
   "outputs": [],
   "source": [
    "TO_SCALE = ['2', '3', '8', '14', '15']\n",
    "\n",
    "X_train_scaled = X_train.copy()\n",
    "X_test_scaled = X_test.copy()\n",
    "\n",
    "scaler = StandardScaler()\n",
    "X_train_scaled[TO_SCALE] = scaler.fit_transform(X_train[TO_SCALE])\n",
    "X_test_scaled[TO_SCALE] = scaler.transform(X_test[TO_SCALE])"
   ]
  },
  {
   "cell_type": "markdown",
   "metadata": {},
   "source": [
    "### 3.2 Построение моделей градиентного бустинга без настройки гиперпараметров"
   ]
  },
  {
   "cell_type": "markdown",
   "metadata": {},
   "source": [
    "Создадим функцию для подсчета оценок классификации."
   ]
  },
  {
   "cell_type": "code",
   "execution_count": 72,
   "metadata": {},
   "outputs": [
    {
     "data": {
      "text/html": [
       "<div>\n",
       "<style scoped>\n",
       "    .dataframe tbody tr th:only-of-type {\n",
       "        vertical-align: middle;\n",
       "    }\n",
       "\n",
       "    .dataframe tbody tr th {\n",
       "        vertical-align: top;\n",
       "    }\n",
       "\n",
       "    .dataframe thead th {\n",
       "        text-align: right;\n",
       "    }\n",
       "</style>\n",
       "<table border=\"1\" class=\"dataframe\">\n",
       "  <thead>\n",
       "    <tr style=\"text-align: right;\">\n",
       "      <th></th>\n",
       "    </tr>\n",
       "    <tr>\n",
       "      <th>score</th>\n",
       "    </tr>\n",
       "  </thead>\n",
       "  <tbody>\n",
       "    <tr>\n",
       "      <th>Accuracy</th>\n",
       "    </tr>\n",
       "    <tr>\n",
       "      <th>Precision</th>\n",
       "    </tr>\n",
       "    <tr>\n",
       "      <th>Recall</th>\n",
       "    </tr>\n",
       "    <tr>\n",
       "      <th>F1-score</th>\n",
       "    </tr>\n",
       "    <tr>\n",
       "      <th>AUC</th>\n",
       "    </tr>\n",
       "  </tbody>\n",
       "</table>\n",
       "</div>"
      ],
      "text/plain": [
       "Empty DataFrame\n",
       "Columns: []\n",
       "Index: [Accuracy, Precision, Recall, F1-score, AUC]"
      ]
     },
     "execution_count": 72,
     "metadata": {},
     "output_type": "execute_result"
    }
   ],
   "source": [
    "score_table = pd.DataFrame({\"score\":[\"Accuracy\", \"Precision\", \"Recall\", \"F1-score\", \"AUC\"]})\n",
    "score_table.set_index(\"score\")"
   ]
  },
  {
   "cell_type": "code",
   "execution_count": 73,
   "metadata": {},
   "outputs": [],
   "source": [
    "def calculate_score(classifier, y_expected, y_predicted, y_predicted_proba):\n",
    "    accuracy = accuracy_score(y_predicted, y_expected)\n",
    "    print(\"Accuracy:  {:.3f}\".format(accuracy))\n",
    "\n",
    "    precision = precision_score(y_predicted, y_expected)\n",
    "    print(\"Precision: {:.3f}\".format(precision))\n",
    "\n",
    "    recall = recall_score(y_predicted, y_expected)\n",
    "    print(\"Recall:    {:.3f}\".format(recall))\n",
    "\n",
    "    f1 = f1_score(y_predicted, y_expected)\n",
    "    print(\"F1-score:  {:.3f}\".format(f1))\n",
    "    \n",
    "    auc = roc_auc_score(y_expected, y_predicted_proba)\n",
    "    print(\"AUC:       {:.3f}\".format(auc))\n",
    "    \n",
    "    score_table[classifier] = [accuracy, precision, recall, f1, auc]"
   ]
  },
  {
   "cell_type": "markdown",
   "metadata": {},
   "source": [
    "#### `GradientBoostingClassifier`"
   ]
  },
  {
   "cell_type": "code",
   "execution_count": 74,
   "metadata": {},
   "outputs": [
    {
     "name": "stdout",
     "output_type": "stream",
     "text": [
      "Accuracy:  0.847\n",
      "Precision: 0.837\n",
      "Recall:    0.818\n",
      "F1-score:  0.828\n",
      "AUC:       0.941\n"
     ]
    }
   ],
   "source": [
    "from sklearn.ensemble import GradientBoostingClassifier\n",
    "\n",
    "gb_classifier = GradientBoostingClassifier()\n",
    "gb_classifier.fit(X_train_scaled, y_train)\n",
    "y_pred = gb_classifier.predict(X_test_scaled)\n",
    "y_pred_proba = gb_classifier.predict_proba(X_test_scaled)\n",
    "calculate_score('GradientBoostingClassifier', y_test, y_pred, y_pred_proba[:, 1])"
   ]
  },
  {
   "cell_type": "markdown",
   "metadata": {},
   "source": [
    "#### `XGBoost`"
   ]
  },
  {
   "cell_type": "code",
   "execution_count": 75,
   "metadata": {},
   "outputs": [
    {
     "name": "stdout",
     "output_type": "stream",
     "text": [
      "Accuracy:  0.847\n",
      "Precision: 0.826\n",
      "Recall:    0.826\n",
      "F1-score:  0.826\n",
      "AUC:       0.928\n"
     ]
    }
   ],
   "source": [
    "import xgboost as xgb\n",
    "\n",
    "xgb_classifier = xgb.XGBClassifier()\n",
    "xgb_classifier.fit(X_train_scaled, y_train)\n",
    "y_pred = xgb_classifier.predict(X_test_scaled)\n",
    "y_pred_proba = xgb_classifier.predict_proba(X_test_scaled)\n",
    "calculate_score('XGBClassifier', y_test, y_pred, y_pred_proba[:, 1])"
   ]
  },
  {
   "cell_type": "markdown",
   "metadata": {},
   "source": [
    "#### `CatBoost`"
   ]
  },
  {
   "cell_type": "code",
   "execution_count": 76,
   "metadata": {
    "scrolled": true
   },
   "outputs": [
    {
     "name": "stdout",
     "output_type": "stream",
     "text": [
      "Accuracy:  0.872\n",
      "Precision: 0.884\n",
      "Recall:    0.835\n",
      "F1-score:  0.859\n",
      "AUC:       0.941\n"
     ]
    }
   ],
   "source": [
    "from catboost import CatBoostClassifier\n",
    "\n",
    "catboost_classifier = CatBoostClassifier(silent=True)\n",
    "catboost_classifier.fit(X_train_scaled, y_train)\n",
    "y_pred = catboost_classifier.predict(X_test_scaled)\n",
    "y_pred_proba = catboost_classifier.predict_proba(X_test_scaled)\n",
    "calculate_score('CatBoostClassifier', y_test, y_pred, y_pred_proba[:, 1])"
   ]
  },
  {
   "cell_type": "markdown",
   "metadata": {},
   "source": [
    " #### `LGBMClassifier`"
   ]
  },
  {
   "cell_type": "code",
   "execution_count": 77,
   "metadata": {
    "scrolled": true
   },
   "outputs": [
    {
     "name": "stdout",
     "output_type": "stream",
     "text": [
      "Accuracy:  0.857\n",
      "Precision: 0.826\n",
      "Recall:    0.845\n",
      "F1-score:  0.835\n",
      "AUC:       0.936\n"
     ]
    }
   ],
   "source": [
    "from lightgbm import LGBMClassifier\n",
    "\n",
    "lgbm_classifier = LGBMClassifier()\n",
    "lgbm_classifier.fit(X_train_scaled, y_train)\n",
    "y_pred = lgbm_classifier.predict(X_test_scaled)\n",
    "y_pred_proba = lgbm_classifier.predict_proba(X_test_scaled)\n",
    "calculate_score('LGBMClassifier', y_test, y_pred, y_pred_proba[:, 1])"
   ]
  },
  {
   "cell_type": "markdown",
   "metadata": {},
   "source": [
    "#### Результаты"
   ]
  },
  {
   "cell_type": "code",
   "execution_count": 78,
   "metadata": {},
   "outputs": [
    {
     "data": {
      "text/html": [
       "<div>\n",
       "<style scoped>\n",
       "    .dataframe tbody tr th:only-of-type {\n",
       "        vertical-align: middle;\n",
       "    }\n",
       "\n",
       "    .dataframe tbody tr th {\n",
       "        vertical-align: top;\n",
       "    }\n",
       "\n",
       "    .dataframe thead th {\n",
       "        text-align: right;\n",
       "    }\n",
       "</style>\n",
       "<table border=\"1\" class=\"dataframe\">\n",
       "  <thead>\n",
       "    <tr style=\"text-align: right;\">\n",
       "      <th></th>\n",
       "      <th>score</th>\n",
       "      <th>GradientBoostingClassifier</th>\n",
       "      <th>XGBClassifier</th>\n",
       "      <th>CatBoostClassifier</th>\n",
       "      <th>LGBMClassifier</th>\n",
       "    </tr>\n",
       "  </thead>\n",
       "  <tbody>\n",
       "    <tr>\n",
       "      <th>0</th>\n",
       "      <td>Accuracy</td>\n",
       "      <td>0.846939</td>\n",
       "      <td>0.846939</td>\n",
       "      <td>0.872449</td>\n",
       "      <td>0.857143</td>\n",
       "    </tr>\n",
       "    <tr>\n",
       "      <th>1</th>\n",
       "      <td>Precision</td>\n",
       "      <td>0.837209</td>\n",
       "      <td>0.825581</td>\n",
       "      <td>0.883721</td>\n",
       "      <td>0.825581</td>\n",
       "    </tr>\n",
       "    <tr>\n",
       "      <th>2</th>\n",
       "      <td>Recall</td>\n",
       "      <td>0.818182</td>\n",
       "      <td>0.825581</td>\n",
       "      <td>0.835165</td>\n",
       "      <td>0.845238</td>\n",
       "    </tr>\n",
       "    <tr>\n",
       "      <th>3</th>\n",
       "      <td>F1-score</td>\n",
       "      <td>0.827586</td>\n",
       "      <td>0.825581</td>\n",
       "      <td>0.858757</td>\n",
       "      <td>0.835294</td>\n",
       "    </tr>\n",
       "    <tr>\n",
       "      <th>4</th>\n",
       "      <td>AUC</td>\n",
       "      <td>0.940909</td>\n",
       "      <td>0.927590</td>\n",
       "      <td>0.941226</td>\n",
       "      <td>0.936258</td>\n",
       "    </tr>\n",
       "  </tbody>\n",
       "</table>\n",
       "</div>"
      ],
      "text/plain": [
       "       score  GradientBoostingClassifier  XGBClassifier  CatBoostClassifier  \\\n",
       "0   Accuracy                    0.846939       0.846939            0.872449   \n",
       "1  Precision                    0.837209       0.825581            0.883721   \n",
       "2     Recall                    0.818182       0.825581            0.835165   \n",
       "3   F1-score                    0.827586       0.825581            0.858757   \n",
       "4        AUC                    0.940909       0.927590            0.941226   \n",
       "\n",
       "   LGBMClassifier  \n",
       "0        0.857143  \n",
       "1        0.825581  \n",
       "2        0.845238  \n",
       "3        0.835294  \n",
       "4        0.936258  "
      ]
     },
     "execution_count": 78,
     "metadata": {},
     "output_type": "execute_result"
    }
   ],
   "source": [
    "score_table"
   ]
  },
  {
   "cell_type": "markdown",
   "metadata": {},
   "source": [
    "На данный момент наибольшую точность прогнозирования дает `CatBoostClassifier`."
   ]
  },
  {
   "cell_type": "markdown",
   "metadata": {},
   "source": [
    "### 3.3 Построение моделей градиентного бустинга с настройкой гиперпараметров"
   ]
  },
  {
   "cell_type": "markdown",
   "metadata": {},
   "source": [
    "#### `GradientBoostingClassifier`."
   ]
  },
  {
   "cell_type": "code",
   "execution_count": 79,
   "metadata": {},
   "outputs": [
    {
     "name": "stdout",
     "output_type": "stream",
     "text": [
      "0.986870897155361\n",
      "{'learning_rate': 0.017512413826403554, 'max_depth': 8, 'min_samples_leaf': 16, 'min_samples_split': 11, 'n_estimators': 540, 'subsample': 0.5387451268199314}\n",
      "CPU times: user 1.83 s, sys: 46.5 ms, total: 1.88 s\n",
      "Wall time: 20 s\n"
     ]
    }
   ],
   "source": [
    "%%time\n",
    "\n",
    "parameters = {\n",
    "    \"n_estimators\": stats.randint(10, 1000),\n",
    "    \"learning_rate\": stats.uniform(0.01, 1),\n",
    "    \"subsample\": stats.uniform(0.5, 1.0),\n",
    "\n",
    "    \"max_depth\": stats.randint(3, 10),\n",
    "    \"min_samples_split\": stats.randint(3, 20),\n",
    "    \"min_samples_leaf\": stats.randint(3, 20)\n",
    "}\n",
    "\n",
    "gb_classifier_tuned = RandomizedSearchCV(GradientBoostingClassifier(), parameters, n_iter=100, cv=5, n_jobs=-1)\n",
    "gb_classifier_tuned.fit(X_train_scaled, y_train)\n",
    "\n",
    "print(gb_classifier_tuned.score(X_train_scaled, y_train))\n",
    "print(gb_classifier_tuned.best_params_)"
   ]
  },
  {
   "cell_type": "code",
   "execution_count": 80,
   "metadata": {},
   "outputs": [
    {
     "name": "stdout",
     "output_type": "stream",
     "text": [
      "Accuracy:  0.872\n",
      "Precision: 0.849\n",
      "Recall:    0.859\n",
      "F1-score:  0.854\n",
      "AUC:       0.939\n"
     ]
    }
   ],
   "source": [
    "y_pred = gb_classifier_tuned.predict(X_test_scaled)\n",
    "y_pred_proba = gb_classifier_tuned.predict_proba(X_test_scaled)\n",
    "calculate_score('GradientBoostingClassifier_Tuned', y_test, y_pred, y_pred_proba[:, 1])"
   ]
  },
  {
   "cell_type": "markdown",
   "metadata": {},
   "source": [
    "#### `XGBoost`"
   ]
  },
  {
   "cell_type": "code",
   "execution_count": 81,
   "metadata": {},
   "outputs": [
    {
     "name": "stdout",
     "output_type": "stream",
     "text": [
      "0.9059080962800875\n",
      "{'colsample_bytree': 0.6716658477091806, 'gamma': 7.272563331126994, 'learning_rate': 0.37486155195298965, 'max_depth': 3, 'min_child_weight': 8, 'n_estimators': 279, 'reg_alpha': 0, 'reg_lambda': 0.03147281268293267, 'subsample': 0.8070580519175499}\n",
      "CPU times: user 1.2 s, sys: 19.8 ms, total: 1.22 s\n",
      "Wall time: 4.03 s\n"
     ]
    }
   ],
   "source": [
    "%%time\n",
    "\n",
    "parameters = {\n",
    "    'n_estimators': stats.randint(10, 1000),\n",
    "    'learning_rate': stats.uniform(0.01, 1),\n",
    "    'subsample': stats.uniform(0.5, 1.0),\n",
    "\n",
    "    'max_depth': stats.randint(3, 10),\n",
    "    'gamma': stats.uniform (1, 9),\n",
    "    'min_child_weight' : stats.randint(0, 10),\n",
    "    'colsample_bytree': stats.uniform(0.5, 1),\n",
    "    'reg_alpha': stats.randint(0, 1),\n",
    "    'reg_lambda': stats.uniform(0, 1),\n",
    "}\n",
    "\n",
    "xgb_classifier_tuned = RandomizedSearchCV(xgb.XGBClassifier(), parameters, n_iter=100, cv=5, n_jobs=-1)\n",
    "xgb_classifier_tuned.fit(X_train_scaled, y_train)\n",
    "\n",
    "print(xgb_classifier_tuned.score(X_train_scaled, y_train))\n",
    "print(xgb_classifier_tuned.best_params_)"
   ]
  },
  {
   "cell_type": "code",
   "execution_count": 82,
   "metadata": {
    "scrolled": true
   },
   "outputs": [
    {
     "name": "stdout",
     "output_type": "stream",
     "text": [
      "Accuracy:  0.852\n",
      "Precision: 0.860\n",
      "Recall:    0.813\n",
      "F1-score:  0.836\n",
      "AUC:       0.929\n"
     ]
    }
   ],
   "source": [
    "y_pred = xgb_classifier_tuned.predict(X_test_scaled)\n",
    "y_pred_proba = xgb_classifier_tuned.predict_proba(X_test_scaled)\n",
    "calculate_score('XGBClassifier_Tuned', y_test, y_pred, y_pred_proba[:, 1])"
   ]
  },
  {
   "cell_type": "markdown",
   "metadata": {},
   "source": [
    "#### `CatBoost`"
   ]
  },
  {
   "cell_type": "code",
   "execution_count": 88,
   "metadata": {
    "scrolled": false
   },
   "outputs": [
    {
     "name": "stderr",
     "output_type": "stream",
     "text": [
      "/home/myslovets/anaconda3/lib/python3.7/site-packages/joblib/externals/loky/process_executor.py:691: UserWarning: A worker stopped while some jobs were given to the executor. This can be caused by a too short worker timeout or by a memory leak.\n",
      "  \"timeout or by a memory leak.\", UserWarning\n"
     ]
    },
    {
     "name": "stdout",
     "output_type": "stream",
     "text": [
      "1.0\n",
      "{'bagging_temperature': 0.619765537935283, 'border_count': 64, 'depth': 11, 'l2_leaf_reg': 4, 'learning_rate': 0.013819185056281161, 'min_data_in_leaf': 9, 'n_estimators': 597, 'random_strength': 2.193124188043769, 'subsample': 0.7844706207001071}\n",
      "CPU times: user 13.7 s, sys: 1.46 s, total: 15.1 s\n",
      "Wall time: 1min 50s\n"
     ]
    }
   ],
   "source": [
    "%%time\n",
    "\n",
    "parameters = {\n",
    "    'n_estimators': stats.randint(100, 1000),\n",
    "    'learning_rate': stats.uniform(0.01, 0.1),\n",
    "    'subsample': stats.uniform(0.5, 0.9),\n",
    "\n",
    "    'depth': stats.randint(3, 13),\n",
    "    \"min_data_in_leaf\": stats.randint(1, 10),    \n",
    "    'l2_leaf_reg': stats.randint(1, 5),\n",
    "    'random_strength': stats.uniform(0, 3),\n",
    "    'bagging_temperature': stats.uniform(0.5, 1.0),\n",
    "    'border_count': [32, 64, 128, 256]\n",
    "}\n",
    "\n",
    "catboost_classifier_tuned = RandomizedSearchCV(CatBoostClassifier(silent=True), parameters, \n",
    "                                               cv=5, n_jobs=-1)\n",
    "catboost_classifier_tuned.fit(X_train_scaled, y_train)\n",
    "\n",
    "print(catboost_classifier_tuned.score(X_train_scaled, y_train))\n",
    "print(catboost_classifier_tuned.best_params_)"
   ]
  },
  {
   "cell_type": "code",
   "execution_count": 89,
   "metadata": {
    "scrolled": true
   },
   "outputs": [
    {
     "name": "stdout",
     "output_type": "stream",
     "text": [
      "Accuracy:  0.878\n",
      "Precision: 0.872\n",
      "Recall:    0.852\n",
      "F1-score:  0.862\n",
      "AUC:       0.948\n"
     ]
    }
   ],
   "source": [
    "y_pred = catboost_classifier_tuned.predict(X_test_scaled)\n",
    "y_pred_proba = catboost_classifier_tuned.predict_proba(X_test_scaled)\n",
    "calculate_score('CatBoostClassifier_Tuned', y_test, y_pred, y_pred_proba[:, 1])"
   ]
  },
  {
   "cell_type": "markdown",
   "metadata": {},
   "source": [
    " #### `LGBMClassifier`"
   ]
  },
  {
   "cell_type": "code",
   "execution_count": 96,
   "metadata": {
    "scrolled": true
   },
   "outputs": [
    {
     "name": "stdout",
     "output_type": "stream",
     "text": [
      "0.949671772428884\n",
      "{'boosting_type': 'gbdt', 'learning_rate': 0.6693984738299221, 'max_bin': 18, 'max_depth': 12, 'min_data_in_leaf': 70, 'n_estimators': 51, 'num_leaves': 20, 'reg_alpha': 1, 'reg_lambda': 2.731562321276965, 'subsample': 0.8835264810820884}\n",
      "CPU times: user 2.35 s, sys: 22.4 ms, total: 2.38 s\n",
      "Wall time: 6.8 s\n"
     ]
    }
   ],
   "source": [
    "%%time\n",
    "\n",
    "parameters = {\n",
    "    \"n_estimators\": stats.randint(10, 100),\n",
    "    \"learning_rate\": stats.uniform(0.01, 1),\n",
    "    \"subsample\": stats.uniform(0.5, 1.0),\n",
    "    \n",
    "    \"max_depth\": stats.randint(3, 13),\n",
    "    \"num_leaves\": stats.randint(1, 50),\n",
    "    \"min_data_in_leaf\": stats.randint(1, 100),    \n",
    "    \"max_bin\": stats.randint(3, 50),    \n",
    "    \"boosting_type\" : ['gbdt', 'dart'],    \n",
    "    'reg_alpha': stats.randint(0, 4),\n",
    "    'reg_lambda': stats.uniform(0, 4)\n",
    "}\n",
    "\n",
    "lgbm_classifier_tuned = RandomizedSearchCV(LGBMClassifier(), parameters, n_iter=1000,\n",
    "                                            scoring='accuracy', cv=5, n_jobs=-1)\n",
    "lgbm_classifier_tuned.fit(X_train_scaled, y_train)\n",
    "\n",
    "print(lgbm_classifier_tuned.score(X_train_scaled, y_train))\n",
    "print(lgbm_classifier_tuned.best_params_)"
   ]
  },
  {
   "cell_type": "code",
   "execution_count": 97,
   "metadata": {},
   "outputs": [
    {
     "name": "stdout",
     "output_type": "stream",
     "text": [
      "Accuracy:  0.857\n",
      "Precision: 0.849\n",
      "Recall:    0.830\n",
      "F1-score:  0.839\n",
      "AUC:       0.921\n"
     ]
    }
   ],
   "source": [
    "y_pred = lgbm_classifier_tuned.predict(X_test_scaled)\n",
    "y_pred_proba = lgbm_classifier_tuned.predict_proba(X_test_scaled)\n",
    "calculate_score('LGBMClassifier_Tuned', y_test, y_pred, y_pred_proba[:, 1])"
   ]
  },
  {
   "cell_type": "markdown",
   "metadata": {},
   "source": [
    "#### Результаты"
   ]
  },
  {
   "cell_type": "code",
   "execution_count": 98,
   "metadata": {},
   "outputs": [
    {
     "data": {
      "text/html": [
       "<div>\n",
       "<style scoped>\n",
       "    .dataframe tbody tr th:only-of-type {\n",
       "        vertical-align: middle;\n",
       "    }\n",
       "\n",
       "    .dataframe tbody tr th {\n",
       "        vertical-align: top;\n",
       "    }\n",
       "\n",
       "    .dataframe thead th {\n",
       "        text-align: right;\n",
       "    }\n",
       "</style>\n",
       "<table border=\"1\" class=\"dataframe\">\n",
       "  <thead>\n",
       "    <tr style=\"text-align: right;\">\n",
       "      <th></th>\n",
       "      <th>score</th>\n",
       "      <th>GradientBoostingClassifier</th>\n",
       "      <th>XGBClassifier</th>\n",
       "      <th>CatBoostClassifier</th>\n",
       "      <th>LGBMClassifier</th>\n",
       "      <th>GradientBoostingClassifier_Tuned</th>\n",
       "      <th>XGBClassifier_Tuned</th>\n",
       "      <th>CatBoostClassifier_Tuned</th>\n",
       "      <th>LGBMClassifier_Tuned</th>\n",
       "    </tr>\n",
       "  </thead>\n",
       "  <tbody>\n",
       "    <tr>\n",
       "      <th>0</th>\n",
       "      <td>Accuracy</td>\n",
       "      <td>0.846939</td>\n",
       "      <td>0.846939</td>\n",
       "      <td>0.872449</td>\n",
       "      <td>0.857143</td>\n",
       "      <td>0.872449</td>\n",
       "      <td>0.852041</td>\n",
       "      <td>0.877551</td>\n",
       "      <td>0.857143</td>\n",
       "    </tr>\n",
       "    <tr>\n",
       "      <th>1</th>\n",
       "      <td>Precision</td>\n",
       "      <td>0.837209</td>\n",
       "      <td>0.825581</td>\n",
       "      <td>0.883721</td>\n",
       "      <td>0.825581</td>\n",
       "      <td>0.848837</td>\n",
       "      <td>0.860465</td>\n",
       "      <td>0.872093</td>\n",
       "      <td>0.848837</td>\n",
       "    </tr>\n",
       "    <tr>\n",
       "      <th>2</th>\n",
       "      <td>Recall</td>\n",
       "      <td>0.818182</td>\n",
       "      <td>0.825581</td>\n",
       "      <td>0.835165</td>\n",
       "      <td>0.845238</td>\n",
       "      <td>0.858824</td>\n",
       "      <td>0.813187</td>\n",
       "      <td>0.852273</td>\n",
       "      <td>0.829545</td>\n",
       "    </tr>\n",
       "    <tr>\n",
       "      <th>3</th>\n",
       "      <td>F1-score</td>\n",
       "      <td>0.827586</td>\n",
       "      <td>0.825581</td>\n",
       "      <td>0.858757</td>\n",
       "      <td>0.835294</td>\n",
       "      <td>0.853801</td>\n",
       "      <td>0.836158</td>\n",
       "      <td>0.862069</td>\n",
       "      <td>0.839080</td>\n",
       "    </tr>\n",
       "    <tr>\n",
       "      <th>4</th>\n",
       "      <td>AUC</td>\n",
       "      <td>0.940909</td>\n",
       "      <td>0.927590</td>\n",
       "      <td>0.941226</td>\n",
       "      <td>0.936258</td>\n",
       "      <td>0.939323</td>\n",
       "      <td>0.928594</td>\n",
       "      <td>0.948097</td>\n",
       "      <td>0.920719</td>\n",
       "    </tr>\n",
       "  </tbody>\n",
       "</table>\n",
       "</div>"
      ],
      "text/plain": [
       "       score  GradientBoostingClassifier  XGBClassifier  CatBoostClassifier  \\\n",
       "0   Accuracy                    0.846939       0.846939            0.872449   \n",
       "1  Precision                    0.837209       0.825581            0.883721   \n",
       "2     Recall                    0.818182       0.825581            0.835165   \n",
       "3   F1-score                    0.827586       0.825581            0.858757   \n",
       "4        AUC                    0.940909       0.927590            0.941226   \n",
       "\n",
       "   LGBMClassifier  GradientBoostingClassifier_Tuned  XGBClassifier_Tuned  \\\n",
       "0        0.857143                          0.872449             0.852041   \n",
       "1        0.825581                          0.848837             0.860465   \n",
       "2        0.845238                          0.858824             0.813187   \n",
       "3        0.835294                          0.853801             0.836158   \n",
       "4        0.936258                          0.939323             0.928594   \n",
       "\n",
       "   CatBoostClassifier_Tuned  LGBMClassifier_Tuned  \n",
       "0                  0.877551              0.857143  \n",
       "1                  0.872093              0.848837  \n",
       "2                  0.852273              0.829545  \n",
       "3                  0.862069              0.839080  \n",
       "4                  0.948097              0.920719  "
      ]
     },
     "execution_count": 98,
     "metadata": {},
     "output_type": "execute_result"
    }
   ],
   "source": [
    "score_table"
   ]
  }
 ],
 "metadata": {
  "kernelspec": {
   "display_name": "Python 3",
   "language": "python",
   "name": "python3"
  },
  "language_info": {
   "codemirror_mode": {
    "name": "ipython",
    "version": 3
   },
   "file_extension": ".py",
   "mimetype": "text/x-python",
   "name": "python",
   "nbconvert_exporter": "python",
   "pygments_lexer": "ipython3",
   "version": "3.7.7"
  }
 },
 "nbformat": 4,
 "nbformat_minor": 4
}
